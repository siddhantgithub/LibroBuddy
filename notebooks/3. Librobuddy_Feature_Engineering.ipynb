{
 "cells": [
  {
   "cell_type": "markdown",
   "id": "a39250f5",
   "metadata": {},
   "source": [
    "### Load the important libraries"
   ]
  },
  {
   "cell_type": "code",
   "execution_count": 185,
   "id": "62277279",
   "metadata": {},
   "outputs": [],
   "source": [
    "import pandas as pd\n",
    "import matplotlib.pyplot as plt\n",
    "import seaborn as sns\n",
    "import numpy as np\n",
    "from thefuzz import fuzz, process\n",
    "import swifter\n",
    "sns.set()"
   ]
  },
  {
   "cell_type": "markdown",
   "id": "529f7022",
   "metadata": {},
   "source": [
    "### We start with loading data from merged_data from interim data from the last step"
   ]
  },
  {
   "cell_type": "code",
   "execution_count": 186,
   "id": "ceccdb5a",
   "metadata": {},
   "outputs": [],
   "source": [
    "#Import data saved from the last saved data\n",
    "merged_data = pd.read_csv(\"../data/interim/merged_data.csv\")"
   ]
  },
  {
   "cell_type": "code",
   "execution_count": 187,
   "id": "78c9486a",
   "metadata": {
    "scrolled": false
   },
   "outputs": [
    {
     "data": {
      "text/html": [
       "<div>\n",
       "<style scoped>\n",
       "    .dataframe tbody tr th:only-of-type {\n",
       "        vertical-align: middle;\n",
       "    }\n",
       "\n",
       "    .dataframe tbody tr th {\n",
       "        vertical-align: top;\n",
       "    }\n",
       "\n",
       "    .dataframe thead th {\n",
       "        text-align: right;\n",
       "    }\n",
       "</style>\n",
       "<table border=\"1\" class=\"dataframe\">\n",
       "  <thead>\n",
       "    <tr style=\"text-align: right;\">\n",
       "      <th></th>\n",
       "      <th>Title</th>\n",
       "      <th>description</th>\n",
       "      <th>authors</th>\n",
       "      <th>categories</th>\n",
       "      <th>User_id</th>\n",
       "      <th>review/score</th>\n",
       "      <th>review/summary</th>\n",
       "      <th>review/text</th>\n",
       "    </tr>\n",
       "  </thead>\n",
       "  <tbody>\n",
       "    <tr>\n",
       "      <th>0</th>\n",
       "      <td>Its Only Art If Its Well Hung!</td>\n",
       "      <td>NaN</td>\n",
       "      <td>Julie Strain</td>\n",
       "      <td>['Comics', 'Graphic Novels']</td>\n",
       "      <td>AVCGYZL8FQQTD</td>\n",
       "      <td>4.0</td>\n",
       "      <td>nice collection of julie strain images</td>\n",
       "      <td>this is only for julie strain fans its a colle...</td>\n",
       "    </tr>\n",
       "    <tr>\n",
       "      <th>1</th>\n",
       "      <td>Dr. Seuss: American Icon</td>\n",
       "      <td>Philip Nel takes a fascinating look into the k...</td>\n",
       "      <td>Philip Nel</td>\n",
       "      <td>['Biography', 'Autobiography']</td>\n",
       "      <td>A30TK6U7DNS82R</td>\n",
       "      <td>5.0</td>\n",
       "      <td>really enjoyed it</td>\n",
       "      <td>i dont care much for dr seuss but after readin...</td>\n",
       "    </tr>\n",
       "    <tr>\n",
       "      <th>2</th>\n",
       "      <td>Dr. Seuss: American Icon</td>\n",
       "      <td>Philip Nel takes a fascinating look into the k...</td>\n",
       "      <td>Philip Nel</td>\n",
       "      <td>['Biography', 'Autobiography']</td>\n",
       "      <td>A3UH4UZ4RSVO82</td>\n",
       "      <td>5.0</td>\n",
       "      <td>essential for every personal and public library</td>\n",
       "      <td>if people become the books they read and if th...</td>\n",
       "    </tr>\n",
       "    <tr>\n",
       "      <th>3</th>\n",
       "      <td>Dr. Seuss: American Icon</td>\n",
       "      <td>Philip Nel takes a fascinating look into the k...</td>\n",
       "      <td>Philip Nel</td>\n",
       "      <td>['Biography', 'Autobiography']</td>\n",
       "      <td>A2MVUWT453QH61</td>\n",
       "      <td>4.0</td>\n",
       "      <td>phlip nel gives silly seuss a serious treatment</td>\n",
       "      <td>theodore seuss geisel 19041991 aka quotdr seus...</td>\n",
       "    </tr>\n",
       "    <tr>\n",
       "      <th>4</th>\n",
       "      <td>Dr. Seuss: American Icon</td>\n",
       "      <td>Philip Nel takes a fascinating look into the k...</td>\n",
       "      <td>Philip Nel</td>\n",
       "      <td>['Biography', 'Autobiography']</td>\n",
       "      <td>A22X4XUPKF66MR</td>\n",
       "      <td>4.0</td>\n",
       "      <td>good academic overview</td>\n",
       "      <td>philip nel  dr seuss american iconthis is basi...</td>\n",
       "    </tr>\n",
       "  </tbody>\n",
       "</table>\n",
       "</div>"
      ],
      "text/plain": [
       "                            Title  \\\n",
       "0  Its Only Art If Its Well Hung!   \n",
       "1        Dr. Seuss: American Icon   \n",
       "2        Dr. Seuss: American Icon   \n",
       "3        Dr. Seuss: American Icon   \n",
       "4        Dr. Seuss: American Icon   \n",
       "\n",
       "                                         description       authors  \\\n",
       "0                                                NaN  Julie Strain   \n",
       "1  Philip Nel takes a fascinating look into the k...    Philip Nel   \n",
       "2  Philip Nel takes a fascinating look into the k...    Philip Nel   \n",
       "3  Philip Nel takes a fascinating look into the k...    Philip Nel   \n",
       "4  Philip Nel takes a fascinating look into the k...    Philip Nel   \n",
       "\n",
       "                       categories         User_id  review/score  \\\n",
       "0    ['Comics', 'Graphic Novels']   AVCGYZL8FQQTD           4.0   \n",
       "1  ['Biography', 'Autobiography']  A30TK6U7DNS82R           5.0   \n",
       "2  ['Biography', 'Autobiography']  A3UH4UZ4RSVO82           5.0   \n",
       "3  ['Biography', 'Autobiography']  A2MVUWT453QH61           4.0   \n",
       "4  ['Biography', 'Autobiography']  A22X4XUPKF66MR           4.0   \n",
       "\n",
       "                                    review/summary  \\\n",
       "0           nice collection of julie strain images   \n",
       "1                                really enjoyed it   \n",
       "2  essential for every personal and public library   \n",
       "3  phlip nel gives silly seuss a serious treatment   \n",
       "4                           good academic overview   \n",
       "\n",
       "                                         review/text  \n",
       "0  this is only for julie strain fans its a colle...  \n",
       "1  i dont care much for dr seuss but after readin...  \n",
       "2  if people become the books they read and if th...  \n",
       "3  theodore seuss geisel 19041991 aka quotdr seus...  \n",
       "4  philip nel  dr seuss american iconthis is basi...  "
      ]
     },
     "execution_count": 187,
     "metadata": {},
     "output_type": "execute_result"
    }
   ],
   "source": [
    "merged_data.head(5)"
   ]
  },
  {
   "cell_type": "markdown",
   "id": "97211538",
   "metadata": {},
   "source": [
    "### We will prepare the dataset for collaborative filtering. We should have rows for users, columns as the movie names and values as the ratings that the user has provided "
   ]
  },
  {
   "cell_type": "code",
   "execution_count": 211,
   "id": "735b1dea",
   "metadata": {},
   "outputs": [
    {
     "data": {
      "text/plain": [
       "Title                  0\n",
       "description       204181\n",
       "authors            42665\n",
       "categories             0\n",
       "User_id           460235\n",
       "review/score           0\n",
       "review/summary      1698\n",
       "review/text           12\n",
       "dtype: int64"
      ]
     },
     "execution_count": 211,
     "metadata": {},
     "output_type": "execute_result"
    }
   ],
   "source": [
    "merged_data.isna().sum()"
   ]
  },
  {
   "cell_type": "markdown",
   "id": "fa61d379",
   "metadata": {},
   "source": [
    "### Since for collaborative filtering a review with a valid user is important, we will remove all the rows with user_id as null"
   ]
  },
  {
   "cell_type": "code",
   "execution_count": 256,
   "id": "d58d9ba0",
   "metadata": {},
   "outputs": [],
   "source": [
    "merged_data_valid_user_id = merged_data[~merged_data['User_id'].isna()]"
   ]
  },
  {
   "cell_type": "markdown",
   "id": "ac33fe2d",
   "metadata": {},
   "source": [
    "### Now we need to filterout reviews from users who have given too few reviews. We will use the cut-off of 10, assuming users who have given less than 10 reviews don't provide sufficient information for providing a recommendation"
   ]
  },
  {
   "cell_type": "markdown",
   "id": "6e6df534",
   "metadata": {},
   "source": [
    "### As a first step, we will group-by by users to get the right statistics"
   ]
  },
  {
   "cell_type": "code",
   "execution_count": 257,
   "id": "7863ce12",
   "metadata": {},
   "outputs": [],
   "source": [
    "merged_data_user_id_group_all = merged_data_valid_user_id.groupby('User_id').agg('count').sort_values(by='Title', ascending=False)"
   ]
  },
  {
   "cell_type": "markdown",
   "id": "16253ac0",
   "metadata": {},
   "source": [
    "### Only select users who have given more than 10 ratings"
   ]
  },
  {
   "cell_type": "code",
   "execution_count": 266,
   "id": "49f41994",
   "metadata": {},
   "outputs": [],
   "source": [
    "merged_data_user_id_group_gt10 = merged_data_user_id_group_all[merged_data_user_id_group_all.Title >= 10]"
   ]
  },
  {
   "cell_type": "code",
   "execution_count": 320,
   "id": "b3831982",
   "metadata": {},
   "outputs": [
    {
     "data": {
      "text/html": [
       "<div>\n",
       "<style scoped>\n",
       "    .dataframe tbody tr th:only-of-type {\n",
       "        vertical-align: middle;\n",
       "    }\n",
       "\n",
       "    .dataframe tbody tr th {\n",
       "        vertical-align: top;\n",
       "    }\n",
       "\n",
       "    .dataframe thead th {\n",
       "        text-align: right;\n",
       "    }\n",
       "</style>\n",
       "<table border=\"1\" class=\"dataframe\">\n",
       "  <thead>\n",
       "    <tr style=\"text-align: right;\">\n",
       "      <th></th>\n",
       "      <th>Title</th>\n",
       "      <th>description</th>\n",
       "      <th>authors</th>\n",
       "      <th>categories</th>\n",
       "      <th>review/score</th>\n",
       "      <th>review/summary</th>\n",
       "      <th>review/text</th>\n",
       "    </tr>\n",
       "    <tr>\n",
       "      <th>User_id</th>\n",
       "      <th></th>\n",
       "      <th></th>\n",
       "      <th></th>\n",
       "      <th></th>\n",
       "      <th></th>\n",
       "      <th></th>\n",
       "      <th></th>\n",
       "    </tr>\n",
       "  </thead>\n",
       "  <tbody>\n",
       "    <tr>\n",
       "      <th>A14OJS0VWMOSWO</th>\n",
       "      <td>4819</td>\n",
       "      <td>4431</td>\n",
       "      <td>4733</td>\n",
       "      <td>4819</td>\n",
       "      <td>4819</td>\n",
       "      <td>4819</td>\n",
       "      <td>4819</td>\n",
       "    </tr>\n",
       "    <tr>\n",
       "      <th>AFVQZQ8PW0L</th>\n",
       "      <td>3049</td>\n",
       "      <td>2907</td>\n",
       "      <td>3018</td>\n",
       "      <td>3049</td>\n",
       "      <td>3049</td>\n",
       "      <td>3049</td>\n",
       "      <td>3049</td>\n",
       "    </tr>\n",
       "    <tr>\n",
       "      <th>A1D2C0WDCSHUWZ</th>\n",
       "      <td>2360</td>\n",
       "      <td>2230</td>\n",
       "      <td>2352</td>\n",
       "      <td>2360</td>\n",
       "      <td>2360</td>\n",
       "      <td>2360</td>\n",
       "      <td>2360</td>\n",
       "    </tr>\n",
       "    <tr>\n",
       "      <th>AHD101501WCN1</th>\n",
       "      <td>1549</td>\n",
       "      <td>1265</td>\n",
       "      <td>1518</td>\n",
       "      <td>1549</td>\n",
       "      <td>1549</td>\n",
       "      <td>1549</td>\n",
       "      <td>1549</td>\n",
       "    </tr>\n",
       "    <tr>\n",
       "      <th>A1X8VZWTOG8IS6</th>\n",
       "      <td>1391</td>\n",
       "      <td>1249</td>\n",
       "      <td>1358</td>\n",
       "      <td>1391</td>\n",
       "      <td>1391</td>\n",
       "      <td>1391</td>\n",
       "      <td>1391</td>\n",
       "    </tr>\n",
       "    <tr>\n",
       "      <th>A1K1JW1C5CUSUZ</th>\n",
       "      <td>1117</td>\n",
       "      <td>1049</td>\n",
       "      <td>1098</td>\n",
       "      <td>1117</td>\n",
       "      <td>1117</td>\n",
       "      <td>1117</td>\n",
       "      <td>1117</td>\n",
       "    </tr>\n",
       "    <tr>\n",
       "      <th>A20EEWWSFMZ1PN</th>\n",
       "      <td>1067</td>\n",
       "      <td>954</td>\n",
       "      <td>1051</td>\n",
       "      <td>1067</td>\n",
       "      <td>1067</td>\n",
       "      <td>1067</td>\n",
       "      <td>1067</td>\n",
       "    </tr>\n",
       "    <tr>\n",
       "      <th>A1S3C5OFU508P3</th>\n",
       "      <td>1002</td>\n",
       "      <td>808</td>\n",
       "      <td>971</td>\n",
       "      <td>1002</td>\n",
       "      <td>1002</td>\n",
       "      <td>1002</td>\n",
       "      <td>1002</td>\n",
       "    </tr>\n",
       "    <tr>\n",
       "      <th>A2OJW07GQRNJUT</th>\n",
       "      <td>805</td>\n",
       "      <td>563</td>\n",
       "      <td>789</td>\n",
       "      <td>805</td>\n",
       "      <td>805</td>\n",
       "      <td>805</td>\n",
       "      <td>805</td>\n",
       "    </tr>\n",
       "    <tr>\n",
       "      <th>A1L43KWWR05PCS</th>\n",
       "      <td>791</td>\n",
       "      <td>727</td>\n",
       "      <td>774</td>\n",
       "      <td>791</td>\n",
       "      <td>791</td>\n",
       "      <td>791</td>\n",
       "      <td>791</td>\n",
       "    </tr>\n",
       "  </tbody>\n",
       "</table>\n",
       "</div>"
      ],
      "text/plain": [
       "                Title  description  authors  categories  review/score  \\\n",
       "User_id                                                                 \n",
       "A14OJS0VWMOSWO   4819         4431     4733        4819          4819   \n",
       "AFVQZQ8PW0L      3049         2907     3018        3049          3049   \n",
       "A1D2C0WDCSHUWZ   2360         2230     2352        2360          2360   \n",
       "AHD101501WCN1    1549         1265     1518        1549          1549   \n",
       "A1X8VZWTOG8IS6   1391         1249     1358        1391          1391   \n",
       "A1K1JW1C5CUSUZ   1117         1049     1098        1117          1117   \n",
       "A20EEWWSFMZ1PN   1067          954     1051        1067          1067   \n",
       "A1S3C5OFU508P3   1002          808      971        1002          1002   \n",
       "A2OJW07GQRNJUT    805          563      789         805           805   \n",
       "A1L43KWWR05PCS    791          727      774         791           791   \n",
       "\n",
       "                review/summary  review/text  \n",
       "User_id                                      \n",
       "A14OJS0VWMOSWO            4819         4819  \n",
       "AFVQZQ8PW0L               3049         3049  \n",
       "A1D2C0WDCSHUWZ            2360         2360  \n",
       "AHD101501WCN1             1549         1549  \n",
       "A1X8VZWTOG8IS6            1391         1391  \n",
       "A1K1JW1C5CUSUZ            1117         1117  \n",
       "A20EEWWSFMZ1PN            1067         1067  \n",
       "A1S3C5OFU508P3            1002         1002  \n",
       "A2OJW07GQRNJUT             805          805  \n",
       "A1L43KWWR05PCS             791          791  "
      ]
     },
     "execution_count": 320,
     "metadata": {},
     "output_type": "execute_result"
    }
   ],
   "source": [
    "merged_data_user_id_group_gt10.head(10)"
   ]
  },
  {
   "cell_type": "markdown",
   "id": "7c41196d",
   "metadata": {},
   "source": [
    "### Let's explore the data further"
   ]
  },
  {
   "cell_type": "code",
   "execution_count": 269,
   "id": "516ca9a1",
   "metadata": {},
   "outputs": [
    {
     "data": {
      "text/html": [
       "<div>\n",
       "<style scoped>\n",
       "    .dataframe tbody tr th:only-of-type {\n",
       "        vertical-align: middle;\n",
       "    }\n",
       "\n",
       "    .dataframe tbody tr th {\n",
       "        vertical-align: top;\n",
       "    }\n",
       "\n",
       "    .dataframe thead th {\n",
       "        text-align: right;\n",
       "    }\n",
       "</style>\n",
       "<table border=\"1\" class=\"dataframe\">\n",
       "  <thead>\n",
       "    <tr style=\"text-align: right;\">\n",
       "      <th></th>\n",
       "      <th>Title</th>\n",
       "      <th>description</th>\n",
       "      <th>authors</th>\n",
       "      <th>categories</th>\n",
       "      <th>review/score</th>\n",
       "      <th>review/summary</th>\n",
       "      <th>review/text</th>\n",
       "    </tr>\n",
       "  </thead>\n",
       "  <tbody>\n",
       "    <tr>\n",
       "      <th>count</th>\n",
       "      <td>21178.000000</td>\n",
       "      <td>21178.000000</td>\n",
       "      <td>21178.000000</td>\n",
       "      <td>21178.000000</td>\n",
       "      <td>21178.000000</td>\n",
       "      <td>21178.000000</td>\n",
       "      <td>21178.000000</td>\n",
       "    </tr>\n",
       "    <tr>\n",
       "      <th>mean</th>\n",
       "      <td>27.315186</td>\n",
       "      <td>25.084758</td>\n",
       "      <td>26.906696</td>\n",
       "      <td>27.315186</td>\n",
       "      <td>27.315186</td>\n",
       "      <td>27.293134</td>\n",
       "      <td>27.315186</td>\n",
       "    </tr>\n",
       "    <tr>\n",
       "      <th>std</th>\n",
       "      <td>61.682249</td>\n",
       "      <td>56.392874</td>\n",
       "      <td>60.658086</td>\n",
       "      <td>61.682249</td>\n",
       "      <td>61.682249</td>\n",
       "      <td>61.683619</td>\n",
       "      <td>61.682249</td>\n",
       "    </tr>\n",
       "    <tr>\n",
       "      <th>min</th>\n",
       "      <td>10.000000</td>\n",
       "      <td>0.000000</td>\n",
       "      <td>0.000000</td>\n",
       "      <td>10.000000</td>\n",
       "      <td>10.000000</td>\n",
       "      <td>0.000000</td>\n",
       "      <td>10.000000</td>\n",
       "    </tr>\n",
       "    <tr>\n",
       "      <th>25%</th>\n",
       "      <td>12.000000</td>\n",
       "      <td>11.000000</td>\n",
       "      <td>12.000000</td>\n",
       "      <td>12.000000</td>\n",
       "      <td>12.000000</td>\n",
       "      <td>12.000000</td>\n",
       "      <td>12.000000</td>\n",
       "    </tr>\n",
       "    <tr>\n",
       "      <th>50%</th>\n",
       "      <td>15.000000</td>\n",
       "      <td>14.000000</td>\n",
       "      <td>15.000000</td>\n",
       "      <td>15.000000</td>\n",
       "      <td>15.000000</td>\n",
       "      <td>15.000000</td>\n",
       "      <td>15.000000</td>\n",
       "    </tr>\n",
       "    <tr>\n",
       "      <th>75%</th>\n",
       "      <td>24.000000</td>\n",
       "      <td>22.000000</td>\n",
       "      <td>24.000000</td>\n",
       "      <td>24.000000</td>\n",
       "      <td>24.000000</td>\n",
       "      <td>24.000000</td>\n",
       "      <td>24.000000</td>\n",
       "    </tr>\n",
       "    <tr>\n",
       "      <th>max</th>\n",
       "      <td>4819.000000</td>\n",
       "      <td>4431.000000</td>\n",
       "      <td>4733.000000</td>\n",
       "      <td>4819.000000</td>\n",
       "      <td>4819.000000</td>\n",
       "      <td>4819.000000</td>\n",
       "      <td>4819.000000</td>\n",
       "    </tr>\n",
       "  </tbody>\n",
       "</table>\n",
       "</div>"
      ],
      "text/plain": [
       "              Title   description       authors    categories  review/score  \\\n",
       "count  21178.000000  21178.000000  21178.000000  21178.000000  21178.000000   \n",
       "mean      27.315186     25.084758     26.906696     27.315186     27.315186   \n",
       "std       61.682249     56.392874     60.658086     61.682249     61.682249   \n",
       "min       10.000000      0.000000      0.000000     10.000000     10.000000   \n",
       "25%       12.000000     11.000000     12.000000     12.000000     12.000000   \n",
       "50%       15.000000     14.000000     15.000000     15.000000     15.000000   \n",
       "75%       24.000000     22.000000     24.000000     24.000000     24.000000   \n",
       "max     4819.000000   4431.000000   4733.000000   4819.000000   4819.000000   \n",
       "\n",
       "       review/summary   review/text  \n",
       "count    21178.000000  21178.000000  \n",
       "mean        27.293134     27.315186  \n",
       "std         61.683619     61.682249  \n",
       "min          0.000000     10.000000  \n",
       "25%         12.000000     12.000000  \n",
       "50%         15.000000     15.000000  \n",
       "75%         24.000000     24.000000  \n",
       "max       4819.000000   4819.000000  "
      ]
     },
     "execution_count": 269,
     "metadata": {},
     "output_type": "execute_result"
    }
   ],
   "source": [
    "merged_data_user_id_group_gt10.describe()"
   ]
  },
  {
   "cell_type": "code",
   "execution_count": 321,
   "id": "6b9128a2",
   "metadata": {
    "scrolled": false
   },
   "outputs": [
    {
     "name": "stderr",
     "output_type": "stream",
     "text": [
      "C:\\Users\\dikshashukla\\AppData\\Local\\anaconda3\\Lib\\site-packages\\seaborn\\axisgrid.py:118: UserWarning: The figure layout has changed to tight\n",
      "  self._figure.tight_layout(*args, **kwargs)\n"
     ]
    },
    {
     "data": {
      "text/plain": [
       "<seaborn.axisgrid.FacetGrid at 0x2961b09a710>"
      ]
     },
     "execution_count": 321,
     "metadata": {},
     "output_type": "execute_result"
    },
    {
     "data": {
      "image/png": "[encoded data removed]",
      "text/plain": [
       "<Figure size 500x500 with 1 Axes>"
      ]
     },
     "metadata": {},
     "output_type": "display_data"
    }
   ],
   "source": [
    "sns.catplot(merged_data_user_id_group_gt10)"
   ]
  },
  {
   "cell_type": "markdown",
   "id": "69e14ccb",
   "metadata": {},
   "source": [
    "### We see there are clear outliers as a few users have given too many ratings. These users are outliers and they may skew the recommendations. Based on the graph above, we will use a cutoff of 1300 reviews, meaning we will leave the users who have given more than 1300 reviews"
   ]
  },
  {
   "cell_type": "code",
   "execution_count": 278,
   "id": "617a18bf",
   "metadata": {},
   "outputs": [],
   "source": [
    "merged_data_user_id_cut_off = merged_data_user_id_group_gt10[merged_data_user_id_group_gt10.Title < 800]"
   ]
  },
  {
   "cell_type": "code",
   "execution_count": 279,
   "id": "57163c52",
   "metadata": {},
   "outputs": [
    {
     "data": {
      "text/html": [
       "<div>\n",
       "<style scoped>\n",
       "    .dataframe tbody tr th:only-of-type {\n",
       "        vertical-align: middle;\n",
       "    }\n",
       "\n",
       "    .dataframe tbody tr th {\n",
       "        vertical-align: top;\n",
       "    }\n",
       "\n",
       "    .dataframe thead th {\n",
       "        text-align: right;\n",
       "    }\n",
       "</style>\n",
       "<table border=\"1\" class=\"dataframe\">\n",
       "  <thead>\n",
       "    <tr style=\"text-align: right;\">\n",
       "      <th></th>\n",
       "      <th>Title</th>\n",
       "      <th>description</th>\n",
       "      <th>authors</th>\n",
       "      <th>categories</th>\n",
       "      <th>review/score</th>\n",
       "      <th>review/summary</th>\n",
       "      <th>review/text</th>\n",
       "    </tr>\n",
       "  </thead>\n",
       "  <tbody>\n",
       "    <tr>\n",
       "      <th>count</th>\n",
       "      <td>21169.000000</td>\n",
       "      <td>21169.000000</td>\n",
       "      <td>21169.000000</td>\n",
       "      <td>21169.000000</td>\n",
       "      <td>21169.000000</td>\n",
       "      <td>21169.000000</td>\n",
       "      <td>21169.000000</td>\n",
       "    </tr>\n",
       "    <tr>\n",
       "      <th>mean</th>\n",
       "      <td>26.516227</td>\n",
       "      <td>24.365298</td>\n",
       "      <td>26.120365</td>\n",
       "      <td>26.516227</td>\n",
       "      <td>26.516227</td>\n",
       "      <td>26.494166</td>\n",
       "      <td>26.516227</td>\n",
       "    </tr>\n",
       "    <tr>\n",
       "      <th>std</th>\n",
       "      <td>40.678795</td>\n",
       "      <td>36.954065</td>\n",
       "      <td>39.925259</td>\n",
       "      <td>40.678795</td>\n",
       "      <td>40.678795</td>\n",
       "      <td>40.680440</td>\n",
       "      <td>40.678795</td>\n",
       "    </tr>\n",
       "    <tr>\n",
       "      <th>min</th>\n",
       "      <td>10.000000</td>\n",
       "      <td>0.000000</td>\n",
       "      <td>0.000000</td>\n",
       "      <td>10.000000</td>\n",
       "      <td>10.000000</td>\n",
       "      <td>0.000000</td>\n",
       "      <td>10.000000</td>\n",
       "    </tr>\n",
       "    <tr>\n",
       "      <th>25%</th>\n",
       "      <td>12.000000</td>\n",
       "      <td>11.000000</td>\n",
       "      <td>12.000000</td>\n",
       "      <td>12.000000</td>\n",
       "      <td>12.000000</td>\n",
       "      <td>12.000000</td>\n",
       "      <td>12.000000</td>\n",
       "    </tr>\n",
       "    <tr>\n",
       "      <th>50%</th>\n",
       "      <td>15.000000</td>\n",
       "      <td>14.000000</td>\n",
       "      <td>15.000000</td>\n",
       "      <td>15.000000</td>\n",
       "      <td>15.000000</td>\n",
       "      <td>15.000000</td>\n",
       "      <td>15.000000</td>\n",
       "    </tr>\n",
       "    <tr>\n",
       "      <th>75%</th>\n",
       "      <td>24.000000</td>\n",
       "      <td>22.000000</td>\n",
       "      <td>24.000000</td>\n",
       "      <td>24.000000</td>\n",
       "      <td>24.000000</td>\n",
       "      <td>24.000000</td>\n",
       "      <td>24.000000</td>\n",
       "    </tr>\n",
       "    <tr>\n",
       "      <th>max</th>\n",
       "      <td>791.000000</td>\n",
       "      <td>727.000000</td>\n",
       "      <td>774.000000</td>\n",
       "      <td>791.000000</td>\n",
       "      <td>791.000000</td>\n",
       "      <td>791.000000</td>\n",
       "      <td>791.000000</td>\n",
       "    </tr>\n",
       "  </tbody>\n",
       "</table>\n",
       "</div>"
      ],
      "text/plain": [
       "              Title   description       authors    categories  review/score  \\\n",
       "count  21169.000000  21169.000000  21169.000000  21169.000000  21169.000000   \n",
       "mean      26.516227     24.365298     26.120365     26.516227     26.516227   \n",
       "std       40.678795     36.954065     39.925259     40.678795     40.678795   \n",
       "min       10.000000      0.000000      0.000000     10.000000     10.000000   \n",
       "25%       12.000000     11.000000     12.000000     12.000000     12.000000   \n",
       "50%       15.000000     14.000000     15.000000     15.000000     15.000000   \n",
       "75%       24.000000     22.000000     24.000000     24.000000     24.000000   \n",
       "max      791.000000    727.000000    774.000000    791.000000    791.000000   \n",
       "\n",
       "       review/summary   review/text  \n",
       "count    21169.000000  21169.000000  \n",
       "mean        26.494166     26.516227  \n",
       "std         40.680440     40.678795  \n",
       "min          0.000000     10.000000  \n",
       "25%         12.000000     12.000000  \n",
       "50%         15.000000     15.000000  \n",
       "75%         24.000000     24.000000  \n",
       "max        791.000000    791.000000  "
      ]
     },
     "execution_count": 279,
     "metadata": {},
     "output_type": "execute_result"
    }
   ],
   "source": [
    "merged_data_user_id_cut_off.describe()"
   ]
  },
  {
   "cell_type": "code",
   "execution_count": 323,
   "id": "b4aa9614",
   "metadata": {},
   "outputs": [
    {
     "name": "stderr",
     "output_type": "stream",
     "text": [
      "C:\\Users\\dikshashukla\\AppData\\Local\\anaconda3\\Lib\\site-packages\\seaborn\\axisgrid.py:118: UserWarning: The figure layout has changed to tight\n",
      "  self._figure.tight_layout(*args, **kwargs)\n"
     ]
    },
    {
     "data": {
      "text/plain": [
       "<seaborn.axisgrid.FacetGrid at 0x296228f2750>"
      ]
     },
     "execution_count": 323,
     "metadata": {},
     "output_type": "execute_result"
    },
    {
     "data": {
      "image/png": "[encoded data removed]",
      "text/plain": [
       "<Figure size 500x500 with 1 Axes>"
      ]
     },
     "metadata": {},
     "output_type": "display_data"
    }
   ],
   "source": [
    "sns.catplot(merged_data_user_id_cut_off,)"
   ]
  },
  {
   "cell_type": "markdown",
   "id": "07380cbf",
   "metadata": {},
   "source": [
    "### Clearly, we don't have outliers in terms of # reviews written"
   ]
  },
  {
   "cell_type": "markdown",
   "id": "d98b4789",
   "metadata": {},
   "source": [
    "### Let's keep only relevant rows in the main dataset. That is we will only keep the rows corresponding to the users in the merged_data_user_id_cut_off dataset"
   ]
  },
  {
   "cell_type": "code",
   "execution_count": 284,
   "id": "e415047f",
   "metadata": {},
   "outputs": [],
   "source": [
    "merged_data_valid_user_id = merged_data_valid_user_id[merged_data_valid_user_id.User_id.isin(merged_data_user_id_cut_off.index)]"
   ]
  },
  {
   "cell_type": "code",
   "execution_count": 286,
   "id": "7acbed3a",
   "metadata": {},
   "outputs": [
    {
     "data": {
      "text/plain": [
       "(561322, 8)"
      ]
     },
     "execution_count": 286,
     "metadata": {},
     "output_type": "execute_result"
    }
   ],
   "source": [
    "merged_data_valid_user_id.shape"
   ]
  },
  {
   "cell_type": "code",
   "execution_count": 287,
   "id": "e94df05c",
   "metadata": {},
   "outputs": [
    {
     "data": {
      "text/html": [
       "<div>\n",
       "<style scoped>\n",
       "    .dataframe tbody tr th:only-of-type {\n",
       "        vertical-align: middle;\n",
       "    }\n",
       "\n",
       "    .dataframe tbody tr th {\n",
       "        vertical-align: top;\n",
       "    }\n",
       "\n",
       "    .dataframe thead th {\n",
       "        text-align: right;\n",
       "    }\n",
       "</style>\n",
       "<table border=\"1\" class=\"dataframe\">\n",
       "  <thead>\n",
       "    <tr style=\"text-align: right;\">\n",
       "      <th></th>\n",
       "      <th>Title</th>\n",
       "      <th>description</th>\n",
       "      <th>authors</th>\n",
       "      <th>categories</th>\n",
       "      <th>User_id</th>\n",
       "      <th>review/score</th>\n",
       "      <th>review/summary</th>\n",
       "      <th>review/text</th>\n",
       "    </tr>\n",
       "  </thead>\n",
       "  <tbody>\n",
       "    <tr>\n",
       "      <th>1</th>\n",
       "      <td>Dr. Seuss: American Icon</td>\n",
       "      <td>Philip Nel takes a fascinating look into the k...</td>\n",
       "      <td>Philip Nel</td>\n",
       "      <td>['Biography', 'Autobiography']</td>\n",
       "      <td>A30TK6U7DNS82R</td>\n",
       "      <td>5.0</td>\n",
       "      <td>really enjoyed it</td>\n",
       "      <td>i dont care much for dr seuss but after readin...</td>\n",
       "    </tr>\n",
       "    <tr>\n",
       "      <th>3</th>\n",
       "      <td>Dr. Seuss: American Icon</td>\n",
       "      <td>Philip Nel takes a fascinating look into the k...</td>\n",
       "      <td>Philip Nel</td>\n",
       "      <td>['Biography', 'Autobiography']</td>\n",
       "      <td>A2MVUWT453QH61</td>\n",
       "      <td>4.0</td>\n",
       "      <td>phlip nel gives silly seuss a serious treatment</td>\n",
       "      <td>theodore seuss geisel 19041991 aka quotdr seus...</td>\n",
       "    </tr>\n",
       "    <tr>\n",
       "      <th>5</th>\n",
       "      <td>Dr. Seuss: American Icon</td>\n",
       "      <td>Philip Nel takes a fascinating look into the k...</td>\n",
       "      <td>Philip Nel</td>\n",
       "      <td>['Biography', 'Autobiography']</td>\n",
       "      <td>A2F6NONFUDB6UK</td>\n",
       "      <td>4.0</td>\n",
       "      <td>one of americas greatest creative talents</td>\n",
       "      <td>dr seuss american icon by philip nel is a thou...</td>\n",
       "    </tr>\n",
       "    <tr>\n",
       "      <th>11</th>\n",
       "      <td>Wonderful Worship in Smaller Churches</td>\n",
       "      <td>This resource includes twelve principles in un...</td>\n",
       "      <td>David R. Ray</td>\n",
       "      <td>['Religion']</td>\n",
       "      <td>A373VVEU6Z9M0N</td>\n",
       "      <td>5.0</td>\n",
       "      <td>small churches can have wonderful worship</td>\n",
       "      <td>many small churches feel like they can not hav...</td>\n",
       "    </tr>\n",
       "    <tr>\n",
       "      <th>54</th>\n",
       "      <td>Rising Sons and Daughters: Life Among Japan's ...</td>\n",
       "      <td>Wardell recalls his experience as a foreign st...</td>\n",
       "      <td>Steven Wardell</td>\n",
       "      <td>['Social Science']</td>\n",
       "      <td>A3NIQK6ZLYEP1L</td>\n",
       "      <td>4.0</td>\n",
       "      <td>almost a day by day view</td>\n",
       "      <td>steven wardell went to japan without reading a...</td>\n",
       "    </tr>\n",
       "  </tbody>\n",
       "</table>\n",
       "</div>"
      ],
      "text/plain": [
       "                                                Title  \\\n",
       "1                            Dr. Seuss: American Icon   \n",
       "3                            Dr. Seuss: American Icon   \n",
       "5                            Dr. Seuss: American Icon   \n",
       "11              Wonderful Worship in Smaller Churches   \n",
       "54  Rising Sons and Daughters: Life Among Japan's ...   \n",
       "\n",
       "                                          description         authors  \\\n",
       "1   Philip Nel takes a fascinating look into the k...      Philip Nel   \n",
       "3   Philip Nel takes a fascinating look into the k...      Philip Nel   \n",
       "5   Philip Nel takes a fascinating look into the k...      Philip Nel   \n",
       "11  This resource includes twelve principles in un...    David R. Ray   \n",
       "54  Wardell recalls his experience as a foreign st...  Steven Wardell   \n",
       "\n",
       "                        categories         User_id  review/score  \\\n",
       "1   ['Biography', 'Autobiography']  A30TK6U7DNS82R           5.0   \n",
       "3   ['Biography', 'Autobiography']  A2MVUWT453QH61           4.0   \n",
       "5   ['Biography', 'Autobiography']  A2F6NONFUDB6UK           4.0   \n",
       "11                    ['Religion']  A373VVEU6Z9M0N           5.0   \n",
       "54              ['Social Science']  A3NIQK6ZLYEP1L           4.0   \n",
       "\n",
       "                                     review/summary  \\\n",
       "1                                 really enjoyed it   \n",
       "3   phlip nel gives silly seuss a serious treatment   \n",
       "5         one of americas greatest creative talents   \n",
       "11        small churches can have wonderful worship   \n",
       "54                         almost a day by day view   \n",
       "\n",
       "                                          review/text  \n",
       "1   i dont care much for dr seuss but after readin...  \n",
       "3   theodore seuss geisel 19041991 aka quotdr seus...  \n",
       "5   dr seuss american icon by philip nel is a thou...  \n",
       "11  many small churches feel like they can not hav...  \n",
       "54  steven wardell went to japan without reading a...  "
      ]
     },
     "execution_count": 287,
     "metadata": {},
     "output_type": "execute_result"
    }
   ],
   "source": [
    "merged_data_valid_user_id.head(5)"
   ]
  },
  {
   "cell_type": "markdown",
   "id": "395942bc",
   "metadata": {},
   "source": [
    "### For collaborative filtering, we just need - Title, User_id and review/score"
   ]
  },
  {
   "cell_type": "code",
   "execution_count": 289,
   "id": "38659d0b",
   "metadata": {},
   "outputs": [],
   "source": [
    "rating_user_cf = merged_data_valid_user_id[[\"Title\", \"User_id\", \"review/score\"]]"
   ]
  },
  {
   "cell_type": "code",
   "execution_count": 290,
   "id": "6563f076",
   "metadata": {},
   "outputs": [
    {
     "data": {
      "text/html": [
       "<div>\n",
       "<style scoped>\n",
       "    .dataframe tbody tr th:only-of-type {\n",
       "        vertical-align: middle;\n",
       "    }\n",
       "\n",
       "    .dataframe tbody tr th {\n",
       "        vertical-align: top;\n",
       "    }\n",
       "\n",
       "    .dataframe thead th {\n",
       "        text-align: right;\n",
       "    }\n",
       "</style>\n",
       "<table border=\"1\" class=\"dataframe\">\n",
       "  <thead>\n",
       "    <tr style=\"text-align: right;\">\n",
       "      <th></th>\n",
       "      <th>Title</th>\n",
       "      <th>User_id</th>\n",
       "      <th>review/score</th>\n",
       "    </tr>\n",
       "  </thead>\n",
       "  <tbody>\n",
       "    <tr>\n",
       "      <th>1</th>\n",
       "      <td>Dr. Seuss: American Icon</td>\n",
       "      <td>A30TK6U7DNS82R</td>\n",
       "      <td>5.0</td>\n",
       "    </tr>\n",
       "    <tr>\n",
       "      <th>3</th>\n",
       "      <td>Dr. Seuss: American Icon</td>\n",
       "      <td>A2MVUWT453QH61</td>\n",
       "      <td>4.0</td>\n",
       "    </tr>\n",
       "    <tr>\n",
       "      <th>5</th>\n",
       "      <td>Dr. Seuss: American Icon</td>\n",
       "      <td>A2F6NONFUDB6UK</td>\n",
       "      <td>4.0</td>\n",
       "    </tr>\n",
       "    <tr>\n",
       "      <th>11</th>\n",
       "      <td>Wonderful Worship in Smaller Churches</td>\n",
       "      <td>A373VVEU6Z9M0N</td>\n",
       "      <td>5.0</td>\n",
       "    </tr>\n",
       "    <tr>\n",
       "      <th>54</th>\n",
       "      <td>Rising Sons and Daughters: Life Among Japan's ...</td>\n",
       "      <td>A3NIQK6ZLYEP1L</td>\n",
       "      <td>4.0</td>\n",
       "    </tr>\n",
       "  </tbody>\n",
       "</table>\n",
       "</div>"
      ],
      "text/plain": [
       "                                                Title         User_id  \\\n",
       "1                            Dr. Seuss: American Icon  A30TK6U7DNS82R   \n",
       "3                            Dr. Seuss: American Icon  A2MVUWT453QH61   \n",
       "5                            Dr. Seuss: American Icon  A2F6NONFUDB6UK   \n",
       "11              Wonderful Worship in Smaller Churches  A373VVEU6Z9M0N   \n",
       "54  Rising Sons and Daughters: Life Among Japan's ...  A3NIQK6ZLYEP1L   \n",
       "\n",
       "    review/score  \n",
       "1            5.0  \n",
       "3            4.0  \n",
       "5            4.0  \n",
       "11           5.0  \n",
       "54           4.0  "
      ]
     },
     "execution_count": 290,
     "metadata": {},
     "output_type": "execute_result"
    }
   ],
   "source": [
    "rating_user_cf.head(5)"
   ]
  },
  {
   "cell_type": "markdown",
   "id": "d0cb9630",
   "metadata": {},
   "source": [
    "### We have strings in our dataset for Title and User_id but we will convert them into int. We will create a new dataframe with these columns - userid, bookid, rating.\n",
    "\n",
    "### We will use pd.factorize for creating integer values for strings"
   ]
  },
  {
   "cell_type": "code",
   "execution_count": 313,
   "id": "c91e9ec2",
   "metadata": {},
   "outputs": [],
   "source": [
    "user_book_reviews_ids = pd.DataFrame({'User_Id': pd.factorize(rating_user_cf.User_id)[0], \"Book_Id\":pd.factorize(rating_user_cf.Title)[0], \"Ratings\": rating_user_cf['review/score']}).reset_index(drop=True)"
   ]
  },
  {
   "cell_type": "code",
   "execution_count": 314,
   "id": "69b010ca",
   "metadata": {
    "scrolled": true
   },
   "outputs": [
    {
     "data": {
      "text/html": [
       "<div>\n",
       "<style scoped>\n",
       "    .dataframe tbody tr th:only-of-type {\n",
       "        vertical-align: middle;\n",
       "    }\n",
       "\n",
       "    .dataframe tbody tr th {\n",
       "        vertical-align: top;\n",
       "    }\n",
       "\n",
       "    .dataframe thead th {\n",
       "        text-align: right;\n",
       "    }\n",
       "</style>\n",
       "<table border=\"1\" class=\"dataframe\">\n",
       "  <thead>\n",
       "    <tr style=\"text-align: right;\">\n",
       "      <th></th>\n",
       "      <th>User_Id</th>\n",
       "      <th>Book_Id</th>\n",
       "      <th>Ratings</th>\n",
       "    </tr>\n",
       "  </thead>\n",
       "  <tbody>\n",
       "    <tr>\n",
       "      <th>0</th>\n",
       "      <td>0</td>\n",
       "      <td>0</td>\n",
       "      <td>5.0</td>\n",
       "    </tr>\n",
       "    <tr>\n",
       "      <th>1</th>\n",
       "      <td>1</td>\n",
       "      <td>0</td>\n",
       "      <td>4.0</td>\n",
       "    </tr>\n",
       "    <tr>\n",
       "      <th>2</th>\n",
       "      <td>2</td>\n",
       "      <td>0</td>\n",
       "      <td>4.0</td>\n",
       "    </tr>\n",
       "    <tr>\n",
       "      <th>3</th>\n",
       "      <td>3</td>\n",
       "      <td>1</td>\n",
       "      <td>5.0</td>\n",
       "    </tr>\n",
       "    <tr>\n",
       "      <th>4</th>\n",
       "      <td>4</td>\n",
       "      <td>2</td>\n",
       "      <td>4.0</td>\n",
       "    </tr>\n",
       "  </tbody>\n",
       "</table>\n",
       "</div>"
      ],
      "text/plain": [
       "   User_Id  Book_Id  Ratings\n",
       "0        0        0      5.0\n",
       "1        1        0      4.0\n",
       "2        2        0      4.0\n",
       "3        3        1      5.0\n",
       "4        4        2      4.0"
      ]
     },
     "execution_count": 314,
     "metadata": {},
     "output_type": "execute_result"
    }
   ],
   "source": [
    "user_book_reviews_ids.head(5)"
   ]
  },
  {
   "cell_type": "markdown",
   "id": "7bd31bab",
   "metadata": {},
   "source": [
    "### Now we split the data in train and test"
   ]
  },
  {
   "cell_type": "code",
   "execution_count": 317,
   "id": "0549059e",
   "metadata": {},
   "outputs": [],
   "source": [
    "from sklearn.model_selection import train_test_split\n",
    "X = user_book_reviews_ids[['User_Id', 'Book_Id']]\n",
    "y = user_book_reviews_ids['Ratings']\n",
    "X_train, X_test, y_train, y_test = train_test_split(X, y, test_size = .25, random_state = 0)"
   ]
  },
  {
   "cell_type": "code",
   "execution_count": 318,
   "id": "9d525c92",
   "metadata": {},
   "outputs": [
    {
     "name": "stdout",
     "output_type": "stream",
     "text": [
      "(420991, 2) (140331, 2) (420991,) (140331,)\n"
     ]
    }
   ],
   "source": [
    "print(X_train.shape, X_test.shape, y_train.shape, y_test.shape)"
   ]
  },
  {
   "cell_type": "markdown",
   "id": "f0cdbde5",
   "metadata": {},
   "source": [
    "### We have our train and test data sets ready. In the next stage, we will build collaborative filtering model using PyTorch"
   ]
  }
 ],
 "metadata": {
  "kernelspec": {
   "display_name": "Python 3 (ipykernel)",
   "language": "python",
   "name": "python3"
  },
  "language_info": {
   "codemirror_mode": {
    "name": "ipython",
    "version": 3
   },
   "file_extension": ".py",
   "mimetype": "text/x-python",
   "name": "python",
   "nbconvert_exporter": "python",
   "pygments_lexer": "ipython3",
   "version": "3.11.5"
  }
 },
 "nbformat": 4,
 "nbformat_minor": 5
}
