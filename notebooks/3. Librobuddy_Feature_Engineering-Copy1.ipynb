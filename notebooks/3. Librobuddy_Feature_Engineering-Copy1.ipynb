{
 "cells": [
  {
   "cell_type": "markdown",
   "id": "a39250f5",
   "metadata": {},
   "source": [
    "### Load the important libraries"
   ]
  },
  {
   "cell_type": "code",
   "execution_count": 1,
   "id": "62277279",
   "metadata": {},
   "outputs": [],
   "source": [
    "import pandas as pd\n",
    "import matplotlib.pyplot as plt\n",
    "import seaborn as sns\n",
    "import numpy as np\n",
    "from thefuzz import fuzz, process\n",
    "import swifter\n",
    "sns.set()"
   ]
  },
  {
   "cell_type": "markdown",
   "id": "529f7022",
   "metadata": {},
   "source": [
    "### We start with loading data from merged_data from interim data from the last step"
   ]
  },
  {
   "cell_type": "code",
   "execution_count": 2,
   "id": "ceccdb5a",
   "metadata": {},
   "outputs": [],
   "source": [
    "#Import data saved from the last saved data\n",
    "merged_data = pd.read_csv(\"../data/interim/merged_data.csv\")"
   ]
  },
  {
   "cell_type": "code",
   "execution_count": 4,
   "id": "78c9486a",
   "metadata": {
    "scrolled": false
   },
   "outputs": [
    {
     "data": {
      "text/html": [
       "<div>\n",
       "<style scoped>\n",
       "    .dataframe tbody tr th:only-of-type {\n",
       "        vertical-align: middle;\n",
       "    }\n",
       "\n",
       "    .dataframe tbody tr th {\n",
       "        vertical-align: top;\n",
       "    }\n",
       "\n",
       "    .dataframe thead th {\n",
       "        text-align: right;\n",
       "    }\n",
       "</style>\n",
       "<table border=\"1\" class=\"dataframe\">\n",
       "  <thead>\n",
       "    <tr style=\"text-align: right;\">\n",
       "      <th></th>\n",
       "      <th>Title</th>\n",
       "      <th>description</th>\n",
       "      <th>authors</th>\n",
       "      <th>categories</th>\n",
       "      <th>User_id</th>\n",
       "      <th>review/score</th>\n",
       "      <th>review/summary</th>\n",
       "      <th>review/text</th>\n",
       "    </tr>\n",
       "  </thead>\n",
       "  <tbody>\n",
       "    <tr>\n",
       "      <th>0</th>\n",
       "      <td>Its Only Art If Its Well Hung!</td>\n",
       "      <td>NaN</td>\n",
       "      <td>Julie Strain</td>\n",
       "      <td>['Comics', 'Graphic Novels']</td>\n",
       "      <td>AVCGYZL8FQQTD</td>\n",
       "      <td>4.0</td>\n",
       "      <td>nice collection of julie strain images</td>\n",
       "      <td>this is only for julie strain fans its a colle...</td>\n",
       "    </tr>\n",
       "    <tr>\n",
       "      <th>1</th>\n",
       "      <td>Dr. Seuss: American Icon</td>\n",
       "      <td>Philip Nel takes a fascinating look into the k...</td>\n",
       "      <td>Philip Nel</td>\n",
       "      <td>['Biography', 'Autobiography']</td>\n",
       "      <td>A30TK6U7DNS82R</td>\n",
       "      <td>5.0</td>\n",
       "      <td>really enjoyed it</td>\n",
       "      <td>i dont care much for dr seuss but after readin...</td>\n",
       "    </tr>\n",
       "    <tr>\n",
       "      <th>2</th>\n",
       "      <td>Dr. Seuss: American Icon</td>\n",
       "      <td>Philip Nel takes a fascinating look into the k...</td>\n",
       "      <td>Philip Nel</td>\n",
       "      <td>['Biography', 'Autobiography']</td>\n",
       "      <td>A3UH4UZ4RSVO82</td>\n",
       "      <td>5.0</td>\n",
       "      <td>essential for every personal and public library</td>\n",
       "      <td>if people become the books they read and if th...</td>\n",
       "    </tr>\n",
       "    <tr>\n",
       "      <th>3</th>\n",
       "      <td>Dr. Seuss: American Icon</td>\n",
       "      <td>Philip Nel takes a fascinating look into the k...</td>\n",
       "      <td>Philip Nel</td>\n",
       "      <td>['Biography', 'Autobiography']</td>\n",
       "      <td>A2MVUWT453QH61</td>\n",
       "      <td>4.0</td>\n",
       "      <td>phlip nel gives silly seuss a serious treatment</td>\n",
       "      <td>theodore seuss geisel 19041991 aka quotdr seus...</td>\n",
       "    </tr>\n",
       "    <tr>\n",
       "      <th>4</th>\n",
       "      <td>Dr. Seuss: American Icon</td>\n",
       "      <td>Philip Nel takes a fascinating look into the k...</td>\n",
       "      <td>Philip Nel</td>\n",
       "      <td>['Biography', 'Autobiography']</td>\n",
       "      <td>A22X4XUPKF66MR</td>\n",
       "      <td>4.0</td>\n",
       "      <td>good academic overview</td>\n",
       "      <td>philip nel  dr seuss american iconthis is basi...</td>\n",
       "    </tr>\n",
       "  </tbody>\n",
       "</table>\n",
       "</div>"
      ],
      "text/plain": [
       "                            Title  \\\n",
       "0  Its Only Art If Its Well Hung!   \n",
       "1        Dr. Seuss: American Icon   \n",
       "2        Dr. Seuss: American Icon   \n",
       "3        Dr. Seuss: American Icon   \n",
       "4        Dr. Seuss: American Icon   \n",
       "\n",
       "                                         description       authors  \\\n",
       "0                                                NaN  Julie Strain   \n",
       "1  Philip Nel takes a fascinating look into the k...    Philip Nel   \n",
       "2  Philip Nel takes a fascinating look into the k...    Philip Nel   \n",
       "3  Philip Nel takes a fascinating look into the k...    Philip Nel   \n",
       "4  Philip Nel takes a fascinating look into the k...    Philip Nel   \n",
       "\n",
       "                       categories         User_id  review/score  \\\n",
       "0    ['Comics', 'Graphic Novels']   AVCGYZL8FQQTD           4.0   \n",
       "1  ['Biography', 'Autobiography']  A30TK6U7DNS82R           5.0   \n",
       "2  ['Biography', 'Autobiography']  A3UH4UZ4RSVO82           5.0   \n",
       "3  ['Biography', 'Autobiography']  A2MVUWT453QH61           4.0   \n",
       "4  ['Biography', 'Autobiography']  A22X4XUPKF66MR           4.0   \n",
       "\n",
       "                                    review/summary  \\\n",
       "0           nice collection of julie strain images   \n",
       "1                                really enjoyed it   \n",
       "2  essential for every personal and public library   \n",
       "3  phlip nel gives silly seuss a serious treatment   \n",
       "4                           good academic overview   \n",
       "\n",
       "                                         review/text  \n",
       "0  this is only for julie strain fans its a colle...  \n",
       "1  i dont care much for dr seuss but after readin...  \n",
       "2  if people become the books they read and if th...  \n",
       "3  theodore seuss geisel 19041991 aka quotdr seus...  \n",
       "4  philip nel  dr seuss american iconthis is basi...  "
      ]
     },
     "execution_count": 4,
     "metadata": {},
     "output_type": "execute_result"
    }
   ],
   "source": [
    "merged_data.head(5)."
   ]
  },
  {
   "cell_type": "markdown",
   "id": "96d3daaa",
   "metadata": {},
   "source": [
    "### We will prepare the dataset for collaborative filtering. We should have rows for users, columns as the movie names and values as the ratings that the user has provided "
   ]
  },
  {
   "cell_type": "code",
   "execution_count": 5,
   "id": "03482450",
   "metadata": {},
   "outputs": [
    {
     "data": {
      "text/plain": [
       "Title                  0\n",
       "description       204181\n",
       "authors            42665\n",
       "categories             0\n",
       "User_id           460235\n",
       "review/score           0\n",
       "review/summary      1698\n",
       "review/text           12\n",
       "dtype: int64"
      ]
     },
     "execution_count": 5,
     "metadata": {},
     "output_type": "execute_result"
    }
   ],
   "source": [
    "merged_data.isna().sum()"
   ]
  },
  {
   "cell_type": "markdown",
   "id": "bb2c6621",
   "metadata": {},
   "source": [
    "### Since for collaborative filtering a review with a valid user is important, we will remove all the rows with user_id as null"
   ]
  },
  {
   "cell_type": "code",
   "execution_count": 6,
   "id": "c4ee626d",
   "metadata": {},
   "outputs": [],
   "source": [
    "merged_data_valid_user_id = merged_data[~merged_data['User_id'].isna()]"
   ]
  },
  {
   "cell_type": "markdown",
   "id": "cc94f9c9",
   "metadata": {},
   "source": [
    "### Now we need to filterout reviews from users who have given too few reviews. We will use the cut-off of 10, assuming users who have given less than 10 reviews don't provide sufficient information for providing a recommendation"
   ]
  },
  {
   "cell_type": "markdown",
   "id": "e2d1260f",
   "metadata": {},
   "source": [
    "### As a first step, we will group-by by users to get the right statistics"
   ]
  },
  {
   "cell_type": "code",
   "execution_count": 7,
   "id": "3a4684ae",
   "metadata": {},
   "outputs": [],
   "source": [
    "merged_data_user_id_group_all = merged_data_valid_user_id.groupby('User_id').agg('count').sort_values(by='Title', ascending=False)"
   ]
  },
  {
   "cell_type": "markdown",
   "id": "bb8cc7ca",
   "metadata": {},
   "source": [
    "### Only select users who have given more than 10 ratings"
   ]
  },
  {
   "cell_type": "code",
   "execution_count": 8,
   "id": "9b3aae63",
   "metadata": {},
   "outputs": [],
   "source": [
    "merged_data_user_id_group_gt10 = merged_data_user_id_group_all[merged_data_user_id_group_all.Title >= 10]"
   ]
  },
  {
   "cell_type": "code",
   "execution_count": 9,
   "id": "96d08619",
   "metadata": {},
   "outputs": [
    {
     "data": {
      "text/html": [
       "<div>\n",
       "<style scoped>\n",
       "    .dataframe tbody tr th:only-of-type {\n",
       "        vertical-align: middle;\n",
       "    }\n",
       "\n",
       "    .dataframe tbody tr th {\n",
       "        vertical-align: top;\n",
       "    }\n",
       "\n",
       "    .dataframe thead th {\n",
       "        text-align: right;\n",
       "    }\n",
       "</style>\n",
       "<table border=\"1\" class=\"dataframe\">\n",
       "  <thead>\n",
       "    <tr style=\"text-align: right;\">\n",
       "      <th></th>\n",
       "      <th>Title</th>\n",
       "      <th>description</th>\n",
       "      <th>authors</th>\n",
       "      <th>categories</th>\n",
       "      <th>review/score</th>\n",
       "      <th>review/summary</th>\n",
       "      <th>review/text</th>\n",
       "    </tr>\n",
       "    <tr>\n",
       "      <th>User_id</th>\n",
       "      <th></th>\n",
       "      <th></th>\n",
       "      <th></th>\n",
       "      <th></th>\n",
       "      <th></th>\n",
       "      <th></th>\n",
       "      <th></th>\n",
       "    </tr>\n",
       "  </thead>\n",
       "  <tbody>\n",
       "    <tr>\n",
       "      <th>A14OJS0VWMOSWO</th>\n",
       "      <td>4819</td>\n",
       "      <td>4431</td>\n",
       "      <td>4733</td>\n",
       "      <td>4819</td>\n",
       "      <td>4819</td>\n",
       "      <td>4819</td>\n",
       "      <td>4819</td>\n",
       "    </tr>\n",
       "    <tr>\n",
       "      <th>AFVQZQ8PW0L</th>\n",
       "      <td>3049</td>\n",
       "      <td>2907</td>\n",
       "      <td>3018</td>\n",
       "      <td>3049</td>\n",
       "      <td>3049</td>\n",
       "      <td>3049</td>\n",
       "      <td>3049</td>\n",
       "    </tr>\n",
       "    <tr>\n",
       "      <th>A1D2C0WDCSHUWZ</th>\n",
       "      <td>2360</td>\n",
       "      <td>2230</td>\n",
       "      <td>2352</td>\n",
       "      <td>2360</td>\n",
       "      <td>2360</td>\n",
       "      <td>2360</td>\n",
       "      <td>2360</td>\n",
       "    </tr>\n",
       "    <tr>\n",
       "      <th>AHD101501WCN1</th>\n",
       "      <td>1549</td>\n",
       "      <td>1265</td>\n",
       "      <td>1518</td>\n",
       "      <td>1549</td>\n",
       "      <td>1549</td>\n",
       "      <td>1549</td>\n",
       "      <td>1549</td>\n",
       "    </tr>\n",
       "    <tr>\n",
       "      <th>A1X8VZWTOG8IS6</th>\n",
       "      <td>1391</td>\n",
       "      <td>1249</td>\n",
       "      <td>1358</td>\n",
       "      <td>1391</td>\n",
       "      <td>1391</td>\n",
       "      <td>1391</td>\n",
       "      <td>1391</td>\n",
       "    </tr>\n",
       "    <tr>\n",
       "      <th>A1K1JW1C5CUSUZ</th>\n",
       "      <td>1117</td>\n",
       "      <td>1049</td>\n",
       "      <td>1098</td>\n",
       "      <td>1117</td>\n",
       "      <td>1117</td>\n",
       "      <td>1117</td>\n",
       "      <td>1117</td>\n",
       "    </tr>\n",
       "    <tr>\n",
       "      <th>A20EEWWSFMZ1PN</th>\n",
       "      <td>1067</td>\n",
       "      <td>954</td>\n",
       "      <td>1051</td>\n",
       "      <td>1067</td>\n",
       "      <td>1067</td>\n",
       "      <td>1067</td>\n",
       "      <td>1067</td>\n",
       "    </tr>\n",
       "    <tr>\n",
       "      <th>A1S3C5OFU508P3</th>\n",
       "      <td>1002</td>\n",
       "      <td>808</td>\n",
       "      <td>971</td>\n",
       "      <td>1002</td>\n",
       "      <td>1002</td>\n",
       "      <td>1002</td>\n",
       "      <td>1002</td>\n",
       "    </tr>\n",
       "    <tr>\n",
       "      <th>A2OJW07GQRNJUT</th>\n",
       "      <td>805</td>\n",
       "      <td>563</td>\n",
       "      <td>789</td>\n",
       "      <td>805</td>\n",
       "      <td>805</td>\n",
       "      <td>805</td>\n",
       "      <td>805</td>\n",
       "    </tr>\n",
       "    <tr>\n",
       "      <th>A1L43KWWR05PCS</th>\n",
       "      <td>791</td>\n",
       "      <td>727</td>\n",
       "      <td>774</td>\n",
       "      <td>791</td>\n",
       "      <td>791</td>\n",
       "      <td>791</td>\n",
       "      <td>791</td>\n",
       "    </tr>\n",
       "  </tbody>\n",
       "</table>\n",
       "</div>"
      ],
      "text/plain": [
       "                Title  description  authors  categories  review/score  \\\n",
       "User_id                                                                 \n",
       "A14OJS0VWMOSWO   4819         4431     4733        4819          4819   \n",
       "AFVQZQ8PW0L      3049         2907     3018        3049          3049   \n",
       "A1D2C0WDCSHUWZ   2360         2230     2352        2360          2360   \n",
       "AHD101501WCN1    1549         1265     1518        1549          1549   \n",
       "A1X8VZWTOG8IS6   1391         1249     1358        1391          1391   \n",
       "A1K1JW1C5CUSUZ   1117         1049     1098        1117          1117   \n",
       "A20EEWWSFMZ1PN   1067          954     1051        1067          1067   \n",
       "A1S3C5OFU508P3   1002          808      971        1002          1002   \n",
       "A2OJW07GQRNJUT    805          563      789         805           805   \n",
       "A1L43KWWR05PCS    791          727      774         791           791   \n",
       "\n",
       "                review/summary  review/text  \n",
       "User_id                                      \n",
       "A14OJS0VWMOSWO            4819         4819  \n",
       "AFVQZQ8PW0L               3049         3049  \n",
       "A1D2C0WDCSHUWZ            2360         2360  \n",
       "AHD101501WCN1             1549         1549  \n",
       "A1X8VZWTOG8IS6            1391         1391  \n",
       "A1K1JW1C5CUSUZ            1117         1117  \n",
       "A20EEWWSFMZ1PN            1067         1067  \n",
       "A1S3C5OFU508P3            1002         1002  \n",
       "A2OJW07GQRNJUT             805          805  \n",
       "A1L43KWWR05PCS             791          791  "
      ]
     },
     "execution_count": 9,
     "metadata": {},
     "output_type": "execute_result"
    }
   ],
   "source": [
    "merged_data_user_id_group_gt10.head(10)"
   ]
  },
  {
   "cell_type": "markdown",
   "id": "786e615c",
   "metadata": {},
   "source": [
    "### Let's explore the data further"
   ]
  },
  {
   "cell_type": "code",
   "execution_count": 10,
   "id": "930e3a90",
   "metadata": {},
   "outputs": [
    {
     "data": {
      "text/html": [
       "<div>\n",
       "<style scoped>\n",
       "    .dataframe tbody tr th:only-of-type {\n",
       "        vertical-align: middle;\n",
       "    }\n",
       "\n",
       "    .dataframe tbody tr th {\n",
       "        vertical-align: top;\n",
       "    }\n",
       "\n",
       "    .dataframe thead th {\n",
       "        text-align: right;\n",
       "    }\n",
       "</style>\n",
       "<table border=\"1\" class=\"dataframe\">\n",
       "  <thead>\n",
       "    <tr style=\"text-align: right;\">\n",
       "      <th></th>\n",
       "      <th>Title</th>\n",
       "      <th>description</th>\n",
       "      <th>authors</th>\n",
       "      <th>categories</th>\n",
       "      <th>review/score</th>\n",
       "      <th>review/summary</th>\n",
       "      <th>review/text</th>\n",
       "    </tr>\n",
       "  </thead>\n",
       "  <tbody>\n",
       "    <tr>\n",
       "      <th>count</th>\n",
       "      <td>21178.000000</td>\n",
       "      <td>21178.000000</td>\n",
       "      <td>21178.000000</td>\n",
       "      <td>21178.000000</td>\n",
       "      <td>21178.000000</td>\n",
       "      <td>21178.000000</td>\n",
       "      <td>21178.000000</td>\n",
       "    </tr>\n",
       "    <tr>\n",
       "      <th>mean</th>\n",
       "      <td>27.315186</td>\n",
       "      <td>25.084758</td>\n",
       "      <td>26.906696</td>\n",
       "      <td>27.315186</td>\n",
       "      <td>27.315186</td>\n",
       "      <td>27.293134</td>\n",
       "      <td>27.315186</td>\n",
       "    </tr>\n",
       "    <tr>\n",
       "      <th>std</th>\n",
       "      <td>61.682249</td>\n",
       "      <td>56.392874</td>\n",
       "      <td>60.658086</td>\n",
       "      <td>61.682249</td>\n",
       "      <td>61.682249</td>\n",
       "      <td>61.683619</td>\n",
       "      <td>61.682249</td>\n",
       "    </tr>\n",
       "    <tr>\n",
       "      <th>min</th>\n",
       "      <td>10.000000</td>\n",
       "      <td>0.000000</td>\n",
       "      <td>0.000000</td>\n",
       "      <td>10.000000</td>\n",
       "      <td>10.000000</td>\n",
       "      <td>0.000000</td>\n",
       "      <td>10.000000</td>\n",
       "    </tr>\n",
       "    <tr>\n",
       "      <th>25%</th>\n",
       "      <td>12.000000</td>\n",
       "      <td>11.000000</td>\n",
       "      <td>12.000000</td>\n",
       "      <td>12.000000</td>\n",
       "      <td>12.000000</td>\n",
       "      <td>12.000000</td>\n",
       "      <td>12.000000</td>\n",
       "    </tr>\n",
       "    <tr>\n",
       "      <th>50%</th>\n",
       "      <td>15.000000</td>\n",
       "      <td>14.000000</td>\n",
       "      <td>15.000000</td>\n",
       "      <td>15.000000</td>\n",
       "      <td>15.000000</td>\n",
       "      <td>15.000000</td>\n",
       "      <td>15.000000</td>\n",
       "    </tr>\n",
       "    <tr>\n",
       "      <th>75%</th>\n",
       "      <td>24.000000</td>\n",
       "      <td>22.000000</td>\n",
       "      <td>24.000000</td>\n",
       "      <td>24.000000</td>\n",
       "      <td>24.000000</td>\n",
       "      <td>24.000000</td>\n",
       "      <td>24.000000</td>\n",
       "    </tr>\n",
       "    <tr>\n",
       "      <th>max</th>\n",
       "      <td>4819.000000</td>\n",
       "      <td>4431.000000</td>\n",
       "      <td>4733.000000</td>\n",
       "      <td>4819.000000</td>\n",
       "      <td>4819.000000</td>\n",
       "      <td>4819.000000</td>\n",
       "      <td>4819.000000</td>\n",
       "    </tr>\n",
       "  </tbody>\n",
       "</table>\n",
       "</div>"
      ],
      "text/plain": [
       "              Title   description       authors    categories  review/score  \\\n",
       "count  21178.000000  21178.000000  21178.000000  21178.000000  21178.000000   \n",
       "mean      27.315186     25.084758     26.906696     27.315186     27.315186   \n",
       "std       61.682249     56.392874     60.658086     61.682249     61.682249   \n",
       "min       10.000000      0.000000      0.000000     10.000000     10.000000   \n",
       "25%       12.000000     11.000000     12.000000     12.000000     12.000000   \n",
       "50%       15.000000     14.000000     15.000000     15.000000     15.000000   \n",
       "75%       24.000000     22.000000     24.000000     24.000000     24.000000   \n",
       "max     4819.000000   4431.000000   4733.000000   4819.000000   4819.000000   \n",
       "\n",
       "       review/summary   review/text  \n",
       "count    21178.000000  21178.000000  \n",
       "mean        27.293134     27.315186  \n",
       "std         61.683619     61.682249  \n",
       "min          0.000000     10.000000  \n",
       "25%         12.000000     12.000000  \n",
       "50%         15.000000     15.000000  \n",
       "75%         24.000000     24.000000  \n",
       "max       4819.000000   4819.000000  "
      ]
     },
     "execution_count": 10,
     "metadata": {},
     "output_type": "execute_result"
    }
   ],
   "source": [
    "merged_data_user_id_group_gt10.describe()"
   ]
  },
  {
   "cell_type": "code",
   "execution_count": 11,
   "id": "80dfa9f7",
   "metadata": {
    "scrolled": false
   },
   "outputs": [
    {
     "name": "stderr",
     "output_type": "stream",
     "text": [
      "C:\\Users\\dikshashukla\\AppData\\Local\\anaconda3\\Lib\\site-packages\\seaborn\\axisgrid.py:118: UserWarning: The figure layout has changed to tight\n",
      "  self._figure.tight_layout(*args, **kwargs)\n"
     ]
    },
    {
     "data": {
      "text/plain": [
       "<seaborn.axisgrid.FacetGrid at 0x244a912e310>"
      ]
     },
     "execution_count": 11,
     "metadata": {},
     "output_type": "execute_result"
    },
    {
     "data": {
      "image/png": "[encoded data removed]",
      "text/plain": [
       "<Figure size 500x500 with 1 Axes>"
      ]
     },
     "metadata": {},
     "output_type": "display_data"
    }
   ],
   "source": [
    "sns.catplot(merged_data_user_id_group_gt10)"
   ]
  },
  {
   "cell_type": "markdown",
   "id": "0e02dc54",
   "metadata": {},
   "source": [
    "### We see there are clear outliers as a few users have given too many ratings. These users are outliers and they may skew the recommendations. Based on the graph above, we will use a cutoff of 800 reviews, meaning we will leave the users who have given more than 1300 reviews"
   ]
  },
  {
   "cell_type": "code",
   "execution_count": 12,
   "id": "c68b6622",
   "metadata": {},
   "outputs": [],
   "source": [
    "merged_data_user_id_cut_off = merged_data_user_id_group_gt10[merged_data_user_id_group_gt10.Title < 800]"
   ]
  },
  {
   "cell_type": "code",
   "execution_count": 13,
   "id": "9b9c70ca",
   "metadata": {},
   "outputs": [
    {
     "data": {
      "text/html": [
       "<div>\n",
       "<style scoped>\n",
       "    .dataframe tbody tr th:only-of-type {\n",
       "        vertical-align: middle;\n",
       "    }\n",
       "\n",
       "    .dataframe tbody tr th {\n",
       "        vertical-align: top;\n",
       "    }\n",
       "\n",
       "    .dataframe thead th {\n",
       "        text-align: right;\n",
       "    }\n",
       "</style>\n",
       "<table border=\"1\" class=\"dataframe\">\n",
       "  <thead>\n",
       "    <tr style=\"text-align: right;\">\n",
       "      <th></th>\n",
       "      <th>Title</th>\n",
       "      <th>description</th>\n",
       "      <th>authors</th>\n",
       "      <th>categories</th>\n",
       "      <th>review/score</th>\n",
       "      <th>review/summary</th>\n",
       "      <th>review/text</th>\n",
       "    </tr>\n",
       "  </thead>\n",
       "  <tbody>\n",
       "    <tr>\n",
       "      <th>count</th>\n",
       "      <td>21169.000000</td>\n",
       "      <td>21169.000000</td>\n",
       "      <td>21169.000000</td>\n",
       "      <td>21169.000000</td>\n",
       "      <td>21169.000000</td>\n",
       "      <td>21169.000000</td>\n",
       "      <td>21169.000000</td>\n",
       "    </tr>\n",
       "    <tr>\n",
       "      <th>mean</th>\n",
       "      <td>26.516227</td>\n",
       "      <td>24.365298</td>\n",
       "      <td>26.120365</td>\n",
       "      <td>26.516227</td>\n",
       "      <td>26.516227</td>\n",
       "      <td>26.494166</td>\n",
       "      <td>26.516227</td>\n",
       "    </tr>\n",
       "    <tr>\n",
       "      <th>std</th>\n",
       "      <td>40.678795</td>\n",
       "      <td>36.954065</td>\n",
       "      <td>39.925259</td>\n",
       "      <td>40.678795</td>\n",
       "      <td>40.678795</td>\n",
       "      <td>40.680440</td>\n",
       "      <td>40.678795</td>\n",
       "    </tr>\n",
       "    <tr>\n",
       "      <th>min</th>\n",
       "      <td>10.000000</td>\n",
       "      <td>0.000000</td>\n",
       "      <td>0.000000</td>\n",
       "      <td>10.000000</td>\n",
       "      <td>10.000000</td>\n",
       "      <td>0.000000</td>\n",
       "      <td>10.000000</td>\n",
       "    </tr>\n",
       "    <tr>\n",
       "      <th>25%</th>\n",
       "      <td>12.000000</td>\n",
       "      <td>11.000000</td>\n",
       "      <td>12.000000</td>\n",
       "      <td>12.000000</td>\n",
       "      <td>12.000000</td>\n",
       "      <td>12.000000</td>\n",
       "      <td>12.000000</td>\n",
       "    </tr>\n",
       "    <tr>\n",
       "      <th>50%</th>\n",
       "      <td>15.000000</td>\n",
       "      <td>14.000000</td>\n",
       "      <td>15.000000</td>\n",
       "      <td>15.000000</td>\n",
       "      <td>15.000000</td>\n",
       "      <td>15.000000</td>\n",
       "      <td>15.000000</td>\n",
       "    </tr>\n",
       "    <tr>\n",
       "      <th>75%</th>\n",
       "      <td>24.000000</td>\n",
       "      <td>22.000000</td>\n",
       "      <td>24.000000</td>\n",
       "      <td>24.000000</td>\n",
       "      <td>24.000000</td>\n",
       "      <td>24.000000</td>\n",
       "      <td>24.000000</td>\n",
       "    </tr>\n",
       "    <tr>\n",
       "      <th>max</th>\n",
       "      <td>791.000000</td>\n",
       "      <td>727.000000</td>\n",
       "      <td>774.000000</td>\n",
       "      <td>791.000000</td>\n",
       "      <td>791.000000</td>\n",
       "      <td>791.000000</td>\n",
       "      <td>791.000000</td>\n",
       "    </tr>\n",
       "  </tbody>\n",
       "</table>\n",
       "</div>"
      ],
      "text/plain": [
       "              Title   description       authors    categories  review/score  \\\n",
       "count  21169.000000  21169.000000  21169.000000  21169.000000  21169.000000   \n",
       "mean      26.516227     24.365298     26.120365     26.516227     26.516227   \n",
       "std       40.678795     36.954065     39.925259     40.678795     40.678795   \n",
       "min       10.000000      0.000000      0.000000     10.000000     10.000000   \n",
       "25%       12.000000     11.000000     12.000000     12.000000     12.000000   \n",
       "50%       15.000000     14.000000     15.000000     15.000000     15.000000   \n",
       "75%       24.000000     22.000000     24.000000     24.000000     24.000000   \n",
       "max      791.000000    727.000000    774.000000    791.000000    791.000000   \n",
       "\n",
       "       review/summary   review/text  \n",
       "count    21169.000000  21169.000000  \n",
       "mean        26.494166     26.516227  \n",
       "std         40.680440     40.678795  \n",
       "min          0.000000     10.000000  \n",
       "25%         12.000000     12.000000  \n",
       "50%         15.000000     15.000000  \n",
       "75%         24.000000     24.000000  \n",
       "max        791.000000    791.000000  "
      ]
     },
     "execution_count": 13,
     "metadata": {},
     "output_type": "execute_result"
    }
   ],
   "source": [
    "merged_data_user_id_cut_off.describe()"
   ]
  },
  {
   "cell_type": "code",
   "execution_count": 14,
   "id": "e1250100",
   "metadata": {
    "scrolled": true
   },
   "outputs": [
    {
     "name": "stderr",
     "output_type": "stream",
     "text": [
      "C:\\Users\\dikshashukla\\AppData\\Local\\anaconda3\\Lib\\site-packages\\seaborn\\axisgrid.py:118: UserWarning: The figure layout has changed to tight\n",
      "  self._figure.tight_layout(*args, **kwargs)\n"
     ]
    },
    {
     "data": {
      "text/plain": [
       "<seaborn.axisgrid.FacetGrid at 0x24460ea9190>"
      ]
     },
     "execution_count": 14,
     "metadata": {},
     "output_type": "execute_result"
    },
    {
     "data": {
      "image/png": "[encoded data removed]",
      "text/plain": [
       "<Figure size 500x500 with 1 Axes>"
      ]
     },
     "metadata": {},
     "output_type": "display_data"
    }
   ],
   "source": [
    "sns.catplot(merged_data_user_id_cut_off)"
   ]
  },
  {
   "cell_type": "markdown",
   "id": "f167f0f7",
   "metadata": {},
   "source": [
    "### We now have a more continuous distribution meaning no outlying behavior"
   ]
  },
  {
   "cell_type": "markdown",
   "id": "8d894b03",
   "metadata": {},
   "source": [
    "### Let's keep only relevant rows in the main dataset. That is we will only keep the rows corresponding to the users in the merged_data_user_id_cut_off dataset"
   ]
  },
  {
   "cell_type": "code",
   "execution_count": 15,
   "id": "c43e9ebe",
   "metadata": {},
   "outputs": [],
   "source": [
    "merged_data_valid_user_id = merged_data_valid_user_id[merged_data_valid_user_id.User_id.isin(merged_data_user_id_cut_off.index)]"
   ]
  },
  {
   "cell_type": "code",
   "execution_count": 16,
   "id": "c113941a",
   "metadata": {},
   "outputs": [
    {
     "data": {
      "text/plain": [
       "(561322, 8)"
      ]
     },
     "execution_count": 16,
     "metadata": {},
     "output_type": "execute_result"
    }
   ],
   "source": [
    "merged_data_valid_user_id.shape"
   ]
  },
  {
   "cell_type": "code",
   "execution_count": 17,
   "id": "26b7d058",
   "metadata": {},
   "outputs": [
    {
     "data": {
      "text/html": [
       "<div>\n",
       "<style scoped>\n",
       "    .dataframe tbody tr th:only-of-type {\n",
       "        vertical-align: middle;\n",
       "    }\n",
       "\n",
       "    .dataframe tbody tr th {\n",
       "        vertical-align: top;\n",
       "    }\n",
       "\n",
       "    .dataframe thead th {\n",
       "        text-align: right;\n",
       "    }\n",
       "</style>\n",
       "<table border=\"1\" class=\"dataframe\">\n",
       "  <thead>\n",
       "    <tr style=\"text-align: right;\">\n",
       "      <th></th>\n",
       "      <th>Title</th>\n",
       "      <th>description</th>\n",
       "      <th>authors</th>\n",
       "      <th>categories</th>\n",
       "      <th>User_id</th>\n",
       "      <th>review/score</th>\n",
       "      <th>review/summary</th>\n",
       "      <th>review/text</th>\n",
       "    </tr>\n",
       "  </thead>\n",
       "  <tbody>\n",
       "    <tr>\n",
       "      <th>1</th>\n",
       "      <td>Dr. Seuss: American Icon</td>\n",
       "      <td>Philip Nel takes a fascinating look into the k...</td>\n",
       "      <td>Philip Nel</td>\n",
       "      <td>['Biography', 'Autobiography']</td>\n",
       "      <td>A30TK6U7DNS82R</td>\n",
       "      <td>5.0</td>\n",
       "      <td>really enjoyed it</td>\n",
       "      <td>i dont care much for dr seuss but after readin...</td>\n",
       "    </tr>\n",
       "    <tr>\n",
       "      <th>3</th>\n",
       "      <td>Dr. Seuss: American Icon</td>\n",
       "      <td>Philip Nel takes a fascinating look into the k...</td>\n",
       "      <td>Philip Nel</td>\n",
       "      <td>['Biography', 'Autobiography']</td>\n",
       "      <td>A2MVUWT453QH61</td>\n",
       "      <td>4.0</td>\n",
       "      <td>phlip nel gives silly seuss a serious treatment</td>\n",
       "      <td>theodore seuss geisel 19041991 aka quotdr seus...</td>\n",
       "    </tr>\n",
       "    <tr>\n",
       "      <th>5</th>\n",
       "      <td>Dr. Seuss: American Icon</td>\n",
       "      <td>Philip Nel takes a fascinating look into the k...</td>\n",
       "      <td>Philip Nel</td>\n",
       "      <td>['Biography', 'Autobiography']</td>\n",
       "      <td>A2F6NONFUDB6UK</td>\n",
       "      <td>4.0</td>\n",
       "      <td>one of americas greatest creative talents</td>\n",
       "      <td>dr seuss american icon by philip nel is a thou...</td>\n",
       "    </tr>\n",
       "    <tr>\n",
       "      <th>11</th>\n",
       "      <td>Wonderful Worship in Smaller Churches</td>\n",
       "      <td>This resource includes twelve principles in un...</td>\n",
       "      <td>David R. Ray</td>\n",
       "      <td>['Religion']</td>\n",
       "      <td>A373VVEU6Z9M0N</td>\n",
       "      <td>5.0</td>\n",
       "      <td>small churches can have wonderful worship</td>\n",
       "      <td>many small churches feel like they can not hav...</td>\n",
       "    </tr>\n",
       "    <tr>\n",
       "      <th>54</th>\n",
       "      <td>Rising Sons and Daughters: Life Among Japan's ...</td>\n",
       "      <td>Wardell recalls his experience as a foreign st...</td>\n",
       "      <td>Steven Wardell</td>\n",
       "      <td>['Social Science']</td>\n",
       "      <td>A3NIQK6ZLYEP1L</td>\n",
       "      <td>4.0</td>\n",
       "      <td>almost a day by day view</td>\n",
       "      <td>steven wardell went to japan without reading a...</td>\n",
       "    </tr>\n",
       "  </tbody>\n",
       "</table>\n",
       "</div>"
      ],
      "text/plain": [
       "                                                Title  \\\n",
       "1                            Dr. Seuss: American Icon   \n",
       "3                            Dr. Seuss: American Icon   \n",
       "5                            Dr. Seuss: American Icon   \n",
       "11              Wonderful Worship in Smaller Churches   \n",
       "54  Rising Sons and Daughters: Life Among Japan's ...   \n",
       "\n",
       "                                          description         authors  \\\n",
       "1   Philip Nel takes a fascinating look into the k...      Philip Nel   \n",
       "3   Philip Nel takes a fascinating look into the k...      Philip Nel   \n",
       "5   Philip Nel takes a fascinating look into the k...      Philip Nel   \n",
       "11  This resource includes twelve principles in un...    David R. Ray   \n",
       "54  Wardell recalls his experience as a foreign st...  Steven Wardell   \n",
       "\n",
       "                        categories         User_id  review/score  \\\n",
       "1   ['Biography', 'Autobiography']  A30TK6U7DNS82R           5.0   \n",
       "3   ['Biography', 'Autobiography']  A2MVUWT453QH61           4.0   \n",
       "5   ['Biography', 'Autobiography']  A2F6NONFUDB6UK           4.0   \n",
       "11                    ['Religion']  A373VVEU6Z9M0N           5.0   \n",
       "54              ['Social Science']  A3NIQK6ZLYEP1L           4.0   \n",
       "\n",
       "                                     review/summary  \\\n",
       "1                                 really enjoyed it   \n",
       "3   phlip nel gives silly seuss a serious treatment   \n",
       "5         one of americas greatest creative talents   \n",
       "11        small churches can have wonderful worship   \n",
       "54                         almost a day by day view   \n",
       "\n",
       "                                          review/text  \n",
       "1   i dont care much for dr seuss but after readin...  \n",
       "3   theodore seuss geisel 19041991 aka quotdr seus...  \n",
       "5   dr seuss american icon by philip nel is a thou...  \n",
       "11  many small churches feel like they can not hav...  \n",
       "54  steven wardell went to japan without reading a...  "
      ]
     },
     "execution_count": 17,
     "metadata": {},
     "output_type": "execute_result"
    }
   ],
   "source": [
    "merged_data_valid_user_id.head(5)"
   ]
  },
  {
   "cell_type": "markdown",
   "id": "8ecebc9e",
   "metadata": {},
   "source": [
    "### Let's look at the name of unique titles"
   ]
  },
  {
   "cell_type": "code",
   "execution_count": 36,
   "id": "c586b07c",
   "metadata": {},
   "outputs": [
    {
     "data": {
      "text/plain": [
       "Title                 0\n",
       "description       45533\n",
       "authors            8380\n",
       "categories            0\n",
       "User_id               0\n",
       "review/score          0\n",
       "review/summary      467\n",
       "review/text           0\n",
       "dtype: int64"
      ]
     },
     "execution_count": 36,
     "metadata": {},
     "output_type": "execute_result"
    }
   ],
   "source": [
    "merged_data_valid_user_id.isna().sum()"
   ]
  },
  {
   "cell_type": "markdown",
   "id": "e4f76b28",
   "metadata": {},
   "source": [
    "### Let's remove all the rows with no description as we will not have the information to assess the book type"
   ]
  },
  {
   "cell_type": "code",
   "execution_count": 38,
   "id": "4a7ef6c4",
   "metadata": {},
   "outputs": [
    {
     "data": {
      "text/plain": [
       "(515789, 8)"
      ]
     },
     "execution_count": 38,
     "metadata": {},
     "output_type": "execute_result"
    }
   ],
   "source": [
    "merged_data_valid_user_id = merged_data_valid_user_id[~merged_data_valid_user_id.description.isna()]\n",
    "merged_data_valid_user_id.shape"
   ]
  },
  {
   "cell_type": "markdown",
   "id": "7f0a6344",
   "metadata": {},
   "source": [
    "### We have strings in our dataset for Title and User_id but we need to convert them into int for implementing collaborative filtering. We will create new  columns with ids by using pd.factorize."
   ]
  },
  {
   "cell_type": "code",
   "execution_count": 49,
   "id": "d8e5b458",
   "metadata": {},
   "outputs": [],
   "source": [
    "merged_data_valid_user_id.loc[:,'UserId'] = pd.factorize(merged_data_valid_user_id.User_id)[0]\n",
    "merged_data_valid_user_id.loc[:,'BookId'] = pd.factorize(merged_data_valid_user_id.Title)[0]"
   ]
  },
  {
   "cell_type": "code",
   "execution_count": 50,
   "id": "cbb45446",
   "metadata": {},
   "outputs": [],
   "source": [
    "merged_data_valid_user_id.rename(columns={'review/score':'Ratings'}, inplace=True)"
   ]
  },
  {
   "cell_type": "code",
   "execution_count": 51,
   "id": "581ce4d1",
   "metadata": {
    "scrolled": true
   },
   "outputs": [
    {
     "data": {
      "text/html": [
       "<div>\n",
       "<style scoped>\n",
       "    .dataframe tbody tr th:only-of-type {\n",
       "        vertical-align: middle;\n",
       "    }\n",
       "\n",
       "    .dataframe tbody tr th {\n",
       "        vertical-align: top;\n",
       "    }\n",
       "\n",
       "    .dataframe thead th {\n",
       "        text-align: right;\n",
       "    }\n",
       "</style>\n",
       "<table border=\"1\" class=\"dataframe\">\n",
       "  <thead>\n",
       "    <tr style=\"text-align: right;\">\n",
       "      <th></th>\n",
       "      <th>Title</th>\n",
       "      <th>description</th>\n",
       "      <th>authors</th>\n",
       "      <th>categories</th>\n",
       "      <th>User_id</th>\n",
       "      <th>Ratings</th>\n",
       "      <th>review/summary</th>\n",
       "      <th>review/text</th>\n",
       "      <th>UserId</th>\n",
       "      <th>BookId</th>\n",
       "    </tr>\n",
       "  </thead>\n",
       "  <tbody>\n",
       "    <tr>\n",
       "      <th>1</th>\n",
       "      <td>Dr. Seuss: American Icon</td>\n",
       "      <td>Philip Nel takes a fascinating look into the k...</td>\n",
       "      <td>Philip Nel</td>\n",
       "      <td>['Biography', 'Autobiography']</td>\n",
       "      <td>A30TK6U7DNS82R</td>\n",
       "      <td>5.0</td>\n",
       "      <td>really enjoyed it</td>\n",
       "      <td>i dont care much for dr seuss but after readin...</td>\n",
       "      <td>0</td>\n",
       "      <td>0</td>\n",
       "    </tr>\n",
       "    <tr>\n",
       "      <th>3</th>\n",
       "      <td>Dr. Seuss: American Icon</td>\n",
       "      <td>Philip Nel takes a fascinating look into the k...</td>\n",
       "      <td>Philip Nel</td>\n",
       "      <td>['Biography', 'Autobiography']</td>\n",
       "      <td>A2MVUWT453QH61</td>\n",
       "      <td>4.0</td>\n",
       "      <td>phlip nel gives silly seuss a serious treatment</td>\n",
       "      <td>theodore seuss geisel 19041991 aka quotdr seus...</td>\n",
       "      <td>1</td>\n",
       "      <td>0</td>\n",
       "    </tr>\n",
       "    <tr>\n",
       "      <th>5</th>\n",
       "      <td>Dr. Seuss: American Icon</td>\n",
       "      <td>Philip Nel takes a fascinating look into the k...</td>\n",
       "      <td>Philip Nel</td>\n",
       "      <td>['Biography', 'Autobiography']</td>\n",
       "      <td>A2F6NONFUDB6UK</td>\n",
       "      <td>4.0</td>\n",
       "      <td>one of americas greatest creative talents</td>\n",
       "      <td>dr seuss american icon by philip nel is a thou...</td>\n",
       "      <td>2</td>\n",
       "      <td>0</td>\n",
       "    </tr>\n",
       "    <tr>\n",
       "      <th>11</th>\n",
       "      <td>Wonderful Worship in Smaller Churches</td>\n",
       "      <td>This resource includes twelve principles in un...</td>\n",
       "      <td>David R. Ray</td>\n",
       "      <td>['Religion']</td>\n",
       "      <td>A373VVEU6Z9M0N</td>\n",
       "      <td>5.0</td>\n",
       "      <td>small churches can have wonderful worship</td>\n",
       "      <td>many small churches feel like they can not hav...</td>\n",
       "      <td>3</td>\n",
       "      <td>1</td>\n",
       "    </tr>\n",
       "    <tr>\n",
       "      <th>54</th>\n",
       "      <td>Rising Sons and Daughters: Life Among Japan's ...</td>\n",
       "      <td>Wardell recalls his experience as a foreign st...</td>\n",
       "      <td>Steven Wardell</td>\n",
       "      <td>['Social Science']</td>\n",
       "      <td>A3NIQK6ZLYEP1L</td>\n",
       "      <td>4.0</td>\n",
       "      <td>almost a day by day view</td>\n",
       "      <td>steven wardell went to japan without reading a...</td>\n",
       "      <td>4</td>\n",
       "      <td>2</td>\n",
       "    </tr>\n",
       "  </tbody>\n",
       "</table>\n",
       "</div>"
      ],
      "text/plain": [
       "                                                Title  \\\n",
       "1                            Dr. Seuss: American Icon   \n",
       "3                            Dr. Seuss: American Icon   \n",
       "5                            Dr. Seuss: American Icon   \n",
       "11              Wonderful Worship in Smaller Churches   \n",
       "54  Rising Sons and Daughters: Life Among Japan's ...   \n",
       "\n",
       "                                          description         authors  \\\n",
       "1   Philip Nel takes a fascinating look into the k...      Philip Nel   \n",
       "3   Philip Nel takes a fascinating look into the k...      Philip Nel   \n",
       "5   Philip Nel takes a fascinating look into the k...      Philip Nel   \n",
       "11  This resource includes twelve principles in un...    David R. Ray   \n",
       "54  Wardell recalls his experience as a foreign st...  Steven Wardell   \n",
       "\n",
       "                        categories         User_id  Ratings  \\\n",
       "1   ['Biography', 'Autobiography']  A30TK6U7DNS82R      5.0   \n",
       "3   ['Biography', 'Autobiography']  A2MVUWT453QH61      4.0   \n",
       "5   ['Biography', 'Autobiography']  A2F6NONFUDB6UK      4.0   \n",
       "11                    ['Religion']  A373VVEU6Z9M0N      5.0   \n",
       "54              ['Social Science']  A3NIQK6ZLYEP1L      4.0   \n",
       "\n",
       "                                     review/summary  \\\n",
       "1                                 really enjoyed it   \n",
       "3   phlip nel gives silly seuss a serious treatment   \n",
       "5         one of americas greatest creative talents   \n",
       "11        small churches can have wonderful worship   \n",
       "54                         almost a day by day view   \n",
       "\n",
       "                                          review/text  UserId  BookId  \n",
       "1   i dont care much for dr seuss but after readin...       0       0  \n",
       "3   theodore seuss geisel 19041991 aka quotdr seus...       1       0  \n",
       "5   dr seuss american icon by philip nel is a thou...       2       0  \n",
       "11  many small churches feel like they can not hav...       3       1  \n",
       "54  steven wardell went to japan without reading a...       4       2  "
      ]
     },
     "execution_count": 51,
     "metadata": {},
     "output_type": "execute_result"
    }
   ],
   "source": [
    "merged_data_valid_user_id.head(5)"
   ]
  },
  {
   "cell_type": "markdown",
   "id": "c624dc1f",
   "metadata": {},
   "source": [
    "### Let's look whether our ids our actually unique by sorting the datasets on them"
   ]
  },
  {
   "cell_type": "code",
   "execution_count": 52,
   "id": "5fa02390",
   "metadata": {},
   "outputs": [],
   "source": [
    "book_review_uers_sort = merged_data_valid_user_id.sort_values(by=\"UserId\")"
   ]
  },
  {
   "cell_type": "code",
   "execution_count": 53,
   "id": "81a3a7ce",
   "metadata": {
    "scrolled": true
   },
   "outputs": [
    {
     "data": {
      "text/html": [
       "<div>\n",
       "<style scoped>\n",
       "    .dataframe tbody tr th:only-of-type {\n",
       "        vertical-align: middle;\n",
       "    }\n",
       "\n",
       "    .dataframe tbody tr th {\n",
       "        vertical-align: top;\n",
       "    }\n",
       "\n",
       "    .dataframe thead th {\n",
       "        text-align: right;\n",
       "    }\n",
       "</style>\n",
       "<table border=\"1\" class=\"dataframe\">\n",
       "  <thead>\n",
       "    <tr style=\"text-align: right;\">\n",
       "      <th></th>\n",
       "      <th>Title</th>\n",
       "      <th>description</th>\n",
       "      <th>authors</th>\n",
       "      <th>categories</th>\n",
       "      <th>User_id</th>\n",
       "      <th>Ratings</th>\n",
       "      <th>review/summary</th>\n",
       "      <th>review/text</th>\n",
       "      <th>UserId</th>\n",
       "      <th>BookId</th>\n",
       "    </tr>\n",
       "  </thead>\n",
       "  <tbody>\n",
       "    <tr>\n",
       "      <th>1</th>\n",
       "      <td>Dr. Seuss: American Icon</td>\n",
       "      <td>Philip Nel takes a fascinating look into the k...</td>\n",
       "      <td>Philip Nel</td>\n",
       "      <td>['Biography', 'Autobiography']</td>\n",
       "      <td>A30TK6U7DNS82R</td>\n",
       "      <td>5.0</td>\n",
       "      <td>really enjoyed it</td>\n",
       "      <td>i dont care much for dr seuss but after readin...</td>\n",
       "      <td>0</td>\n",
       "      <td>0</td>\n",
       "    </tr>\n",
       "    <tr>\n",
       "      <th>2152339</th>\n",
       "      <td>The Season: Inside Palm Beach and America's Ri...</td>\n",
       "      <td>Palm Beach is known around the world as the mo...</td>\n",
       "      <td>Ronald Kessler</td>\n",
       "      <td>['Social Science']</td>\n",
       "      <td>A30TK6U7DNS82R</td>\n",
       "      <td>2.0</td>\n",
       "      <td>i hate myself</td>\n",
       "      <td>i hate myself for having read this book right ...</td>\n",
       "      <td>0</td>\n",
       "      <td>59998</td>\n",
       "    </tr>\n",
       "    <tr>\n",
       "      <th>977344</th>\n",
       "      <td>Destination Unknown</td>\n",
       "      <td>In Agatha Christie’s gripping international th...</td>\n",
       "      <td>Agatha Christie</td>\n",
       "      <td>['Fiction']</td>\n",
       "      <td>A30TK6U7DNS82R</td>\n",
       "      <td>5.0</td>\n",
       "      <td>the creeping unknown</td>\n",
       "      <td>i know this book has an indifferent reputation...</td>\n",
       "      <td>0</td>\n",
       "      <td>23200</td>\n",
       "    </tr>\n",
       "    <tr>\n",
       "      <th>1505098</th>\n",
       "      <td>Girls for Breakfast</td>\n",
       "      <td>All children have a sweet tooth, but this litt...</td>\n",
       "      <td>J. L. Humphreys</td>\n",
       "      <td>['Juvenile Fiction']</td>\n",
       "      <td>A30TK6U7DNS82R</td>\n",
       "      <td>4.0</td>\n",
       "      <td>breakfast of champions</td>\n",
       "      <td>david yoos novel feels a little overextended d...</td>\n",
       "      <td>0</td>\n",
       "      <td>38904</td>\n",
       "    </tr>\n",
       "    <tr>\n",
       "      <th>1510153</th>\n",
       "      <td>Planting Eli (Southern Tier Editions)</td>\n",
       "      <td>Ed Dell is gay, single and confidante to godde...</td>\n",
       "      <td>Jeff Black</td>\n",
       "      <td>['Fiction']</td>\n",
       "      <td>A30TK6U7DNS82R</td>\n",
       "      <td>4.0</td>\n",
       "      <td>all the world loves a clown</td>\n",
       "      <td>even if youre not 100 per cent crazy about thi...</td>\n",
       "      <td>0</td>\n",
       "      <td>38984</td>\n",
       "    </tr>\n",
       "    <tr>\n",
       "      <th>1512136</th>\n",
       "      <td>The Curved Planks: Poems / A Bilingual Edition...</td>\n",
       "      <td>For decades readers and critics have acclaimed...</td>\n",
       "      <td>Yves Bonnefoy</td>\n",
       "      <td>['Poetry']</td>\n",
       "      <td>A30TK6U7DNS82R</td>\n",
       "      <td>5.0</td>\n",
       "      <td>ne cesse pas voix proche</td>\n",
       "      <td>its a terrific idea to publish a bilingual edi...</td>\n",
       "      <td>0</td>\n",
       "      <td>39072</td>\n",
       "    </tr>\n",
       "    <tr>\n",
       "      <th>971000</th>\n",
       "      <td>Ariel</td>\n",
       "      <td>“Part post-apocalypse, part road-trip, part sw...</td>\n",
       "      <td>Steven R. Boyett</td>\n",
       "      <td>['Fiction']</td>\n",
       "      <td>A30TK6U7DNS82R</td>\n",
       "      <td>5.0</td>\n",
       "      <td>love set you going she wrote like a fat gold w...</td>\n",
       "      <td>now at long last we get the ariel we deserve p...</td>\n",
       "      <td>0</td>\n",
       "      <td>23020</td>\n",
       "    </tr>\n",
       "    <tr>\n",
       "      <th>965587</th>\n",
       "      <td>Blood Brother: 33 Reasons My Brother Scott Pet...</td>\n",
       "      <td>Scott Peterson's sister describes her relation...</td>\n",
       "      <td>Anne Bird</td>\n",
       "      <td>['Biography', 'Autobiography']</td>\n",
       "      <td>A30TK6U7DNS82R</td>\n",
       "      <td>4.0</td>\n",
       "      <td>blood brother made for headlines</td>\n",
       "      <td>you have to choke down a feeling of disgust to...</td>\n",
       "      <td>0</td>\n",
       "      <td>22874</td>\n",
       "    </tr>\n",
       "    <tr>\n",
       "      <th>156584</th>\n",
       "      <td>Everything Was Possible: The Birth of the Musi...</td>\n",
       "      <td>(Applause Books). In 1971, college student Ted...</td>\n",
       "      <td>Ted Chapin</td>\n",
       "      <td>['Performing Arts']</td>\n",
       "      <td>A30TK6U7DNS82R</td>\n",
       "      <td>5.0</td>\n",
       "      <td>ted and yvonne</td>\n",
       "      <td>the book is good but it is the book of two men...</td>\n",
       "      <td>0</td>\n",
       "      <td>2837</td>\n",
       "    </tr>\n",
       "    <tr>\n",
       "      <th>964544</th>\n",
       "      <td>Too Far</td>\n",
       "      <td>Blaze a trail with two wayward kids as they ex...</td>\n",
       "      <td>Rich Shapero</td>\n",
       "      <td>['Fiction']</td>\n",
       "      <td>A30TK6U7DNS82R</td>\n",
       "      <td>4.0</td>\n",
       "      <td>anal rule in high school</td>\n",
       "      <td>in too far veteran sportswriter mike lupica ha...</td>\n",
       "      <td>0</td>\n",
       "      <td>22846</td>\n",
       "    </tr>\n",
       "  </tbody>\n",
       "</table>\n",
       "</div>"
      ],
      "text/plain": [
       "                                                     Title  \\\n",
       "1                                 Dr. Seuss: American Icon   \n",
       "2152339  The Season: Inside Palm Beach and America's Ri...   \n",
       "977344                                 Destination Unknown   \n",
       "1505098                                Girls for Breakfast   \n",
       "1510153              Planting Eli (Southern Tier Editions)   \n",
       "1512136  The Curved Planks: Poems / A Bilingual Edition...   \n",
       "971000                                               Ariel   \n",
       "965587   Blood Brother: 33 Reasons My Brother Scott Pet...   \n",
       "156584   Everything Was Possible: The Birth of the Musi...   \n",
       "964544                                             Too Far   \n",
       "\n",
       "                                               description           authors  \\\n",
       "1        Philip Nel takes a fascinating look into the k...        Philip Nel   \n",
       "2152339  Palm Beach is known around the world as the mo...    Ronald Kessler   \n",
       "977344   In Agatha Christie’s gripping international th...   Agatha Christie   \n",
       "1505098  All children have a sweet tooth, but this litt...   J. L. Humphreys   \n",
       "1510153  Ed Dell is gay, single and confidante to godde...        Jeff Black   \n",
       "1512136  For decades readers and critics have acclaimed...     Yves Bonnefoy   \n",
       "971000   “Part post-apocalypse, part road-trip, part sw...  Steven R. Boyett   \n",
       "965587   Scott Peterson's sister describes her relation...         Anne Bird   \n",
       "156584   (Applause Books). In 1971, college student Ted...        Ted Chapin   \n",
       "964544   Blaze a trail with two wayward kids as they ex...      Rich Shapero   \n",
       "\n",
       "                             categories         User_id  Ratings  \\\n",
       "1        ['Biography', 'Autobiography']  A30TK6U7DNS82R      5.0   \n",
       "2152339              ['Social Science']  A30TK6U7DNS82R      2.0   \n",
       "977344                      ['Fiction']  A30TK6U7DNS82R      5.0   \n",
       "1505098            ['Juvenile Fiction']  A30TK6U7DNS82R      4.0   \n",
       "1510153                     ['Fiction']  A30TK6U7DNS82R      4.0   \n",
       "1512136                      ['Poetry']  A30TK6U7DNS82R      5.0   \n",
       "971000                      ['Fiction']  A30TK6U7DNS82R      5.0   \n",
       "965587   ['Biography', 'Autobiography']  A30TK6U7DNS82R      4.0   \n",
       "156584              ['Performing Arts']  A30TK6U7DNS82R      5.0   \n",
       "964544                      ['Fiction']  A30TK6U7DNS82R      4.0   \n",
       "\n",
       "                                            review/summary  \\\n",
       "1                                        really enjoyed it   \n",
       "2152339                                      i hate myself   \n",
       "977344                                the creeping unknown   \n",
       "1505098                             breakfast of champions   \n",
       "1510153                        all the world loves a clown   \n",
       "1512136                           ne cesse pas voix proche   \n",
       "971000   love set you going she wrote like a fat gold w...   \n",
       "965587                    blood brother made for headlines   \n",
       "156584                                      ted and yvonne   \n",
       "964544                            anal rule in high school   \n",
       "\n",
       "                                               review/text  UserId  BookId  \n",
       "1        i dont care much for dr seuss but after readin...       0       0  \n",
       "2152339  i hate myself for having read this book right ...       0   59998  \n",
       "977344   i know this book has an indifferent reputation...       0   23200  \n",
       "1505098  david yoos novel feels a little overextended d...       0   38904  \n",
       "1510153  even if youre not 100 per cent crazy about thi...       0   38984  \n",
       "1512136  its a terrific idea to publish a bilingual edi...       0   39072  \n",
       "971000   now at long last we get the ariel we deserve p...       0   23020  \n",
       "965587   you have to choke down a feeling of disgust to...       0   22874  \n",
       "156584   the book is good but it is the book of two men...       0    2837  \n",
       "964544   in too far veteran sportswriter mike lupica ha...       0   22846  "
      ]
     },
     "execution_count": 53,
     "metadata": {},
     "output_type": "execute_result"
    }
   ],
   "source": [
    "book_review_uers_sort.head(10)"
   ]
  },
  {
   "cell_type": "markdown",
   "id": "67f2adcc",
   "metadata": {},
   "source": [
    "### Let's get rid of any duplicate userid and book id combination"
   ]
  },
  {
   "cell_type": "code",
   "execution_count": 54,
   "id": "7e0c24d2",
   "metadata": {},
   "outputs": [],
   "source": [
    "book_review_uers_sort_wdupl = book_review_uers_sort[~book_review_uers_sort.duplicated(subset = ['UserId', 'BookId'])]"
   ]
  },
  {
   "cell_type": "code",
   "execution_count": 55,
   "id": "8141e921",
   "metadata": {
    "scrolled": false
   },
   "outputs": [
    {
     "data": {
      "text/plain": [
       "(411162, 10)"
      ]
     },
     "execution_count": 55,
     "metadata": {},
     "output_type": "execute_result"
    }
   ],
   "source": [
    "book_review_uers_sort_wdupl.shape"
   ]
  },
  {
   "cell_type": "markdown",
   "id": "7033af36",
   "metadata": {},
   "source": [
    "### Our main goal is to recommend books based on user's personality types. The steps we will follow to do that:\n",
    "- Categorize books on different personality types using description and categories\n",
    "- Do collaborative filtering to generate embeddings or latent factors to club similar books\n",
    "- Ask user to enter a short bio that will be used to detect personality types. "
   ]
  },
  {
   "cell_type": "code",
   "execution_count": 68,
   "id": "a1a82217",
   "metadata": {},
   "outputs": [],
   "source": [
    "book_review_uers_sort_unique_books = book_review_uers_sort_wdupl[~book_review_uers_sort_wdupl.duplicated(subset = ['BookId'])]"
   ]
  },
  {
   "cell_type": "code",
   "execution_count": 69,
   "id": "b0c1fb42",
   "metadata": {},
   "outputs": [
    {
     "name": "stderr",
     "output_type": "stream",
     "text": [
      "C:\\Users\\dikshashukla\\AppData\\Local\\Temp\\ipykernel_82648\\1399298352.py:1: SettingWithCopyWarning: \n",
      "A value is trying to be set on a copy of a slice from a DataFrame.\n",
      "Try using .loc[row_indexer,col_indexer] = value instead\n",
      "\n",
      "See the caveats in the documentation: https://pandas.pydata.org/pandas-docs/stable/user_guide/indexing.html#returning-a-view-versus-a-copy\n",
      "  book_review_uers_sort_unique_books.loc[:,\"AllText\"] = book_review_uers_sort_unique_books[\"description\"] + book_review_uers_sort_unique_books[\"categories\"]\n"
     ]
    }
   ],
   "source": [
    "book_review_uers_sort_unique_books.loc[:,\"AllText\"] = book_review_uers_sort_unique_books[\"description\"] + book_review_uers_sort_unique_books[\"categories\"]"
   ]
  },
  {
   "cell_type": "code",
   "execution_count": 87,
   "id": "ac1849f8",
   "metadata": {},
   "outputs": [],
   "source": [
    "book_review_uers_sort_unique_books = book_review_uers_sort_unique_books[[\"BookId\", \"AllText\"]].sort_values(by=\"BookId\").reset_index(drop=True)"
   ]
  },
  {
   "cell_type": "code",
   "execution_count": 88,
   "id": "80eb6a02",
   "metadata": {
    "scrolled": true
   },
   "outputs": [
    {
     "data": {
      "text/html": [
       "<div>\n",
       "<style scoped>\n",
       "    .dataframe tbody tr th:only-of-type {\n",
       "        vertical-align: middle;\n",
       "    }\n",
       "\n",
       "    .dataframe tbody tr th {\n",
       "        vertical-align: top;\n",
       "    }\n",
       "\n",
       "    .dataframe thead th {\n",
       "        text-align: right;\n",
       "    }\n",
       "</style>\n",
       "<table border=\"1\" class=\"dataframe\">\n",
       "  <thead>\n",
       "    <tr style=\"text-align: right;\">\n",
       "      <th></th>\n",
       "      <th>BookId</th>\n",
       "      <th>AllText</th>\n",
       "    </tr>\n",
       "  </thead>\n",
       "  <tbody>\n",
       "    <tr>\n",
       "      <th>0</th>\n",
       "      <td>0</td>\n",
       "      <td>Philip Nel takes a fascinating look into the k...</td>\n",
       "    </tr>\n",
       "    <tr>\n",
       "      <th>1</th>\n",
       "      <td>1</td>\n",
       "      <td>This resource includes twelve principles in un...</td>\n",
       "    </tr>\n",
       "    <tr>\n",
       "      <th>2</th>\n",
       "      <td>2</td>\n",
       "      <td>Wardell recalls his experience as a foreign st...</td>\n",
       "    </tr>\n",
       "    <tr>\n",
       "      <th>3</th>\n",
       "      <td>3</td>\n",
       "      <td>Counters the Western views and stereotypes of ...</td>\n",
       "    </tr>\n",
       "    <tr>\n",
       "      <th>4</th>\n",
       "      <td>4</td>\n",
       "      <td>Dramatica for Screenwriters by Armando Saldana...</td>\n",
       "    </tr>\n",
       "    <tr>\n",
       "      <th>5</th>\n",
       "      <td>5</td>\n",
       "      <td>Herb Caen, a popular columnist for the San Fra...</td>\n",
       "    </tr>\n",
       "    <tr>\n",
       "      <th>6</th>\n",
       "      <td>6</td>\n",
       "      <td>The DK Eyewitness Travel Guide: Eastern and Ce...</td>\n",
       "    </tr>\n",
       "    <tr>\n",
       "      <th>7</th>\n",
       "      <td>7</td>\n",
       "      <td>See the history of witchcraft, magic and super...</td>\n",
       "    </tr>\n",
       "    <tr>\n",
       "      <th>8</th>\n",
       "      <td>8</td>\n",
       "      <td>Twenty-five years ago, at the height of the co...</td>\n",
       "    </tr>\n",
       "    <tr>\n",
       "      <th>9</th>\n",
       "      <td>9</td>\n",
       "      <td>The Bismarck is perhaps the most famous – and ...</td>\n",
       "    </tr>\n",
       "  </tbody>\n",
       "</table>\n",
       "</div>"
      ],
      "text/plain": [
       "   BookId                                            AllText\n",
       "0       0  Philip Nel takes a fascinating look into the k...\n",
       "1       1  This resource includes twelve principles in un...\n",
       "2       2  Wardell recalls his experience as a foreign st...\n",
       "3       3  Counters the Western views and stereotypes of ...\n",
       "4       4  Dramatica for Screenwriters by Armando Saldana...\n",
       "5       5  Herb Caen, a popular columnist for the San Fra...\n",
       "6       6  The DK Eyewitness Travel Guide: Eastern and Ce...\n",
       "7       7  See the history of witchcraft, magic and super...\n",
       "8       8  Twenty-five years ago, at the height of the co...\n",
       "9       9  The Bismarck is perhaps the most famous – and ..."
      ]
     },
     "execution_count": 88,
     "metadata": {},
     "output_type": "execute_result"
    }
   ],
   "source": [
    "book_review_uers_sort_unique_books.head(10)"
   ]
  },
  {
   "cell_type": "code",
   "execution_count": 72,
   "id": "b72cbdb8",
   "metadata": {},
   "outputs": [],
   "source": [
    "from transformers import BertTokenizer, BertForSequenceClassification\n",
    "\n",
    "def personality_detection(text):\n",
    "    tokenizer = BertTokenizer.from_pretrained(\"Minej/bert-base-personality\")\n",
    "    model = BertForSequenceClassification.from_pretrained(\"Minej/bert-base-personality\")\n",
    "\n",
    "    inputs = tokenizer(text, truncation=True, padding=True, return_tensors=\"pt\")\n",
    "    outputs = model(**inputs)\n",
    "    predictions = outputs.logits.squeeze().detach().numpy()\n",
    "\n",
    "    label_names = ['Extroversion', 'Neuroticism', 'Agreeableness', 'Conscientiousness', 'Openness']\n",
    "    result = {label_names[i]: predictions[i] for i in range(len(label_names))}\n",
    "\n",
    "    return result"
   ]
  },
  {
   "cell_type": "code",
   "execution_count": 91,
   "id": "aa3371e9",
   "metadata": {},
   "outputs": [
    {
     "ename": "AttributeError",
     "evalue": "'DataFrame' object has no attribute 'Personality_Values'",
     "output_type": "error",
     "traceback": [
      "\u001b[1;31m---------------------------------------------------------------------------\u001b[0m",
      "\u001b[1;31mAttributeError\u001b[0m                            Traceback (most recent call last)",
      "\u001b[1;32m~\\AppData\\Local\\Temp\\ipykernel_82648\\2508100194.py\u001b[0m in \u001b[0;36m?\u001b[1;34m()\u001b[0m\n\u001b[1;32m----> 1\u001b[1;33m \u001b[0mpersonality_detection\u001b[0m\u001b[1;33m(\u001b[0m\u001b[0mbook_review_uers_sort_unique_books\u001b[0m\u001b[1;33m.\u001b[0m\u001b[0mPersonality_Values\u001b[0m\u001b[1;33m)\u001b[0m\u001b[1;33m\u001b[0m\u001b[1;33m\u001b[0m\u001b[0m\n\u001b[0m",
      "\u001b[1;32m~\\AppData\\Local\\anaconda3\\Lib\\site-packages\\pandas\\core\\generic.py\u001b[0m in \u001b[0;36m?\u001b[1;34m(self, name)\u001b[0m\n\u001b[0;32m   5985\u001b[0m             \u001b[1;32mand\u001b[0m \u001b[0mname\u001b[0m \u001b[1;32mnot\u001b[0m \u001b[1;32min\u001b[0m \u001b[0mself\u001b[0m\u001b[1;33m.\u001b[0m\u001b[0m_accessors\u001b[0m\u001b[1;33m\u001b[0m\u001b[1;33m\u001b[0m\u001b[0m\n\u001b[0;32m   5986\u001b[0m             \u001b[1;32mand\u001b[0m \u001b[0mself\u001b[0m\u001b[1;33m.\u001b[0m\u001b[0m_info_axis\u001b[0m\u001b[1;33m.\u001b[0m\u001b[0m_can_hold_identifiers_and_holds_name\u001b[0m\u001b[1;33m(\u001b[0m\u001b[0mname\u001b[0m\u001b[1;33m)\u001b[0m\u001b[1;33m\u001b[0m\u001b[1;33m\u001b[0m\u001b[0m\n\u001b[0;32m   5987\u001b[0m         ):\n\u001b[0;32m   5988\u001b[0m             \u001b[1;32mreturn\u001b[0m \u001b[0mself\u001b[0m\u001b[1;33m[\u001b[0m\u001b[0mname\u001b[0m\u001b[1;33m]\u001b[0m\u001b[1;33m\u001b[0m\u001b[1;33m\u001b[0m\u001b[0m\n\u001b[1;32m-> 5989\u001b[1;33m         \u001b[1;32mreturn\u001b[0m \u001b[0mobject\u001b[0m\u001b[1;33m.\u001b[0m\u001b[0m__getattribute__\u001b[0m\u001b[1;33m(\u001b[0m\u001b[0mself\u001b[0m\u001b[1;33m,\u001b[0m \u001b[0mname\u001b[0m\u001b[1;33m)\u001b[0m\u001b[1;33m\u001b[0m\u001b[1;33m\u001b[0m\u001b[0m\n\u001b[0m",
      "\u001b[1;31mAttributeError\u001b[0m: 'DataFrame' object has no attribute 'Personality_Values'"
     ]
    }
   ],
   "source": [
    "personality_detection(book_review_uers_sort_unique_books.Personality_Values)"
   ]
  },
  {
   "cell_type": "code",
   "execution_count": 90,
   "id": "f4f4db7e",
   "metadata": {},
   "outputs": [
    {
     "ename": "KeyboardInterrupt",
     "evalue": "",
     "output_type": "error",
     "traceback": [
      "\u001b[1;31m---------------------------------------------------------------------------\u001b[0m",
      "\u001b[1;31mKeyboardInterrupt\u001b[0m                         Traceback (most recent call last)",
      "Cell \u001b[1;32mIn[90], line 1\u001b[0m\n\u001b[1;32m----> 1\u001b[0m book_review_uers_sort_unique_books\u001b[38;5;241m.\u001b[39mloc[:,\u001b[38;5;124m\"\u001b[39m\u001b[38;5;124mPersonality_Values\u001b[39m\u001b[38;5;124m\"\u001b[39m] \u001b[38;5;241m=\u001b[39mbook_review_uers_sort_unique_books\u001b[38;5;241m.\u001b[39mAllText\u001b[38;5;241m.\u001b[39mapply(\u001b[38;5;28;01mlambda\u001b[39;00m x:returnPeronalityType(x))\n",
      "File \u001b[1;32m~\\AppData\\Local\\anaconda3\\Lib\\site-packages\\pandas\\core\\series.py:4630\u001b[0m, in \u001b[0;36mSeries.apply\u001b[1;34m(self, func, convert_dtype, args, **kwargs)\u001b[0m\n\u001b[0;32m   4520\u001b[0m \u001b[38;5;28;01mdef\u001b[39;00m \u001b[38;5;21mapply\u001b[39m(\n\u001b[0;32m   4521\u001b[0m     \u001b[38;5;28mself\u001b[39m,\n\u001b[0;32m   4522\u001b[0m     func: AggFuncType,\n\u001b[1;32m   (...)\u001b[0m\n\u001b[0;32m   4525\u001b[0m     \u001b[38;5;241m*\u001b[39m\u001b[38;5;241m*\u001b[39mkwargs,\n\u001b[0;32m   4526\u001b[0m ) \u001b[38;5;241m-\u001b[39m\u001b[38;5;241m>\u001b[39m DataFrame \u001b[38;5;241m|\u001b[39m Series:\n\u001b[0;32m   4527\u001b[0m \u001b[38;5;250m    \u001b[39m\u001b[38;5;124;03m\"\"\"\u001b[39;00m\n\u001b[0;32m   4528\u001b[0m \u001b[38;5;124;03m    Invoke function on values of Series.\u001b[39;00m\n\u001b[0;32m   4529\u001b[0m \n\u001b[1;32m   (...)\u001b[0m\n\u001b[0;32m   4628\u001b[0m \u001b[38;5;124;03m    dtype: float64\u001b[39;00m\n\u001b[0;32m   4629\u001b[0m \u001b[38;5;124;03m    \"\"\"\u001b[39;00m\n\u001b[1;32m-> 4630\u001b[0m     \u001b[38;5;28;01mreturn\u001b[39;00m SeriesApply(\u001b[38;5;28mself\u001b[39m, func, convert_dtype, args, kwargs)\u001b[38;5;241m.\u001b[39mapply()\n",
      "File \u001b[1;32m~\\AppData\\Local\\anaconda3\\Lib\\site-packages\\pandas\\core\\apply.py:1025\u001b[0m, in \u001b[0;36mSeriesApply.apply\u001b[1;34m(self)\u001b[0m\n\u001b[0;32m   1022\u001b[0m     \u001b[38;5;28;01mreturn\u001b[39;00m \u001b[38;5;28mself\u001b[39m\u001b[38;5;241m.\u001b[39mapply_str()\n\u001b[0;32m   1024\u001b[0m \u001b[38;5;66;03m# self.f is Callable\u001b[39;00m\n\u001b[1;32m-> 1025\u001b[0m \u001b[38;5;28;01mreturn\u001b[39;00m \u001b[38;5;28mself\u001b[39m\u001b[38;5;241m.\u001b[39mapply_standard()\n",
      "File \u001b[1;32m~\\AppData\\Local\\anaconda3\\Lib\\site-packages\\pandas\\core\\apply.py:1076\u001b[0m, in \u001b[0;36mSeriesApply.apply_standard\u001b[1;34m(self)\u001b[0m\n\u001b[0;32m   1074\u001b[0m     \u001b[38;5;28;01melse\u001b[39;00m:\n\u001b[0;32m   1075\u001b[0m         values \u001b[38;5;241m=\u001b[39m obj\u001b[38;5;241m.\u001b[39mastype(\u001b[38;5;28mobject\u001b[39m)\u001b[38;5;241m.\u001b[39m_values\n\u001b[1;32m-> 1076\u001b[0m         mapped \u001b[38;5;241m=\u001b[39m lib\u001b[38;5;241m.\u001b[39mmap_infer(\n\u001b[0;32m   1077\u001b[0m             values,\n\u001b[0;32m   1078\u001b[0m             f,\n\u001b[0;32m   1079\u001b[0m             convert\u001b[38;5;241m=\u001b[39m\u001b[38;5;28mself\u001b[39m\u001b[38;5;241m.\u001b[39mconvert_dtype,\n\u001b[0;32m   1080\u001b[0m         )\n\u001b[0;32m   1082\u001b[0m \u001b[38;5;28;01mif\u001b[39;00m \u001b[38;5;28mlen\u001b[39m(mapped) \u001b[38;5;129;01mand\u001b[39;00m \u001b[38;5;28misinstance\u001b[39m(mapped[\u001b[38;5;241m0\u001b[39m], ABCSeries):\n\u001b[0;32m   1083\u001b[0m     \u001b[38;5;66;03m# GH#43986 Need to do list(mapped) in order to get treated as nested\u001b[39;00m\n\u001b[0;32m   1084\u001b[0m     \u001b[38;5;66;03m#  See also GH#25959 regarding EA support\u001b[39;00m\n\u001b[0;32m   1085\u001b[0m     \u001b[38;5;28;01mreturn\u001b[39;00m obj\u001b[38;5;241m.\u001b[39m_constructor_expanddim(\u001b[38;5;28mlist\u001b[39m(mapped), index\u001b[38;5;241m=\u001b[39mobj\u001b[38;5;241m.\u001b[39mindex)\n",
      "File \u001b[1;32m~\\AppData\\Local\\anaconda3\\Lib\\site-packages\\pandas\\_libs\\lib.pyx:2834\u001b[0m, in \u001b[0;36mpandas._libs.lib.map_infer\u001b[1;34m()\u001b[0m\n",
      "Cell \u001b[1;32mIn[90], line 1\u001b[0m, in \u001b[0;36m<lambda>\u001b[1;34m(x)\u001b[0m\n\u001b[1;32m----> 1\u001b[0m book_review_uers_sort_unique_books\u001b[38;5;241m.\u001b[39mloc[:,\u001b[38;5;124m\"\u001b[39m\u001b[38;5;124mPersonality_Values\u001b[39m\u001b[38;5;124m\"\u001b[39m] \u001b[38;5;241m=\u001b[39mbook_review_uers_sort_unique_books\u001b[38;5;241m.\u001b[39mAllText\u001b[38;5;241m.\u001b[39mapply(\u001b[38;5;28;01mlambda\u001b[39;00m x:returnPeronalityType(x))\n",
      "Cell \u001b[1;32mIn[57], line 2\u001b[0m, in \u001b[0;36mreturnPeronalityType\u001b[1;34m(text_input)\u001b[0m\n\u001b[0;32m      1\u001b[0m \u001b[38;5;28;01mdef\u001b[39;00m \u001b[38;5;21mreturnPeronalityType\u001b[39m (text_input):\n\u001b[1;32m----> 2\u001b[0m     result \u001b[38;5;241m=\u001b[39m personality_detection(text_input)\n\u001b[0;32m      3\u001b[0m     \u001b[38;5;28;01mreturn\u001b[39;00m result\n",
      "Cell \u001b[1;32mIn[72], line 5\u001b[0m, in \u001b[0;36mpersonality_detection\u001b[1;34m(text)\u001b[0m\n\u001b[0;32m      3\u001b[0m \u001b[38;5;28;01mdef\u001b[39;00m \u001b[38;5;21mpersonality_detection\u001b[39m(text):\n\u001b[0;32m      4\u001b[0m     tokenizer \u001b[38;5;241m=\u001b[39m BertTokenizer\u001b[38;5;241m.\u001b[39mfrom_pretrained(\u001b[38;5;124m\"\u001b[39m\u001b[38;5;124mMinej/bert-base-personality\u001b[39m\u001b[38;5;124m\"\u001b[39m)\n\u001b[1;32m----> 5\u001b[0m     model \u001b[38;5;241m=\u001b[39m BertForSequenceClassification\u001b[38;5;241m.\u001b[39mfrom_pretrained(\u001b[38;5;124m\"\u001b[39m\u001b[38;5;124mMinej/bert-base-personality\u001b[39m\u001b[38;5;124m\"\u001b[39m)\n\u001b[0;32m      7\u001b[0m     inputs \u001b[38;5;241m=\u001b[39m tokenizer(text, truncation\u001b[38;5;241m=\u001b[39m\u001b[38;5;28;01mTrue\u001b[39;00m, padding\u001b[38;5;241m=\u001b[39m\u001b[38;5;28;01mTrue\u001b[39;00m, return_tensors\u001b[38;5;241m=\u001b[39m\u001b[38;5;124m\"\u001b[39m\u001b[38;5;124mpt\u001b[39m\u001b[38;5;124m\"\u001b[39m)\n\u001b[0;32m      8\u001b[0m     outputs \u001b[38;5;241m=\u001b[39m model(\u001b[38;5;241m*\u001b[39m\u001b[38;5;241m*\u001b[39minputs)\n",
      "File \u001b[1;32m~\\AppData\\Local\\anaconda3\\Lib\\site-packages\\transformers\\modeling_utils.py:2700\u001b[0m, in \u001b[0;36mPreTrainedModel.from_pretrained\u001b[1;34m(cls, pretrained_model_name_or_path, config, cache_dir, ignore_mismatched_sizes, force_download, local_files_only, token, revision, use_safetensors, *model_args, **kwargs)\u001b[0m\n\u001b[0;32m   2697\u001b[0m     init_contexts\u001b[38;5;241m.\u001b[39mappend(init_empty_weights())\n\u001b[0;32m   2699\u001b[0m \u001b[38;5;28;01mwith\u001b[39;00m ContextManagers(init_contexts):\n\u001b[1;32m-> 2700\u001b[0m     model \u001b[38;5;241m=\u001b[39m \u001b[38;5;28mcls\u001b[39m(config, \u001b[38;5;241m*\u001b[39mmodel_args, \u001b[38;5;241m*\u001b[39m\u001b[38;5;241m*\u001b[39mmodel_kwargs)\n\u001b[0;32m   2702\u001b[0m \u001b[38;5;66;03m# Check first if we are `from_pt`\u001b[39;00m\n\u001b[0;32m   2703\u001b[0m \u001b[38;5;28;01mif\u001b[39;00m use_keep_in_fp32_modules:\n",
      "File \u001b[1;32m~\\AppData\\Local\\anaconda3\\Lib\\site-packages\\transformers\\models\\bert\\modeling_bert.py:1523\u001b[0m, in \u001b[0;36mBertForSequenceClassification.__init__\u001b[1;34m(self, config)\u001b[0m\n\u001b[0;32m   1520\u001b[0m \u001b[38;5;28mself\u001b[39m\u001b[38;5;241m.\u001b[39mnum_labels \u001b[38;5;241m=\u001b[39m config\u001b[38;5;241m.\u001b[39mnum_labels\n\u001b[0;32m   1521\u001b[0m \u001b[38;5;28mself\u001b[39m\u001b[38;5;241m.\u001b[39mconfig \u001b[38;5;241m=\u001b[39m config\n\u001b[1;32m-> 1523\u001b[0m \u001b[38;5;28mself\u001b[39m\u001b[38;5;241m.\u001b[39mbert \u001b[38;5;241m=\u001b[39m BertModel(config)\n\u001b[0;32m   1524\u001b[0m classifier_dropout \u001b[38;5;241m=\u001b[39m (\n\u001b[0;32m   1525\u001b[0m     config\u001b[38;5;241m.\u001b[39mclassifier_dropout \u001b[38;5;28;01mif\u001b[39;00m config\u001b[38;5;241m.\u001b[39mclassifier_dropout \u001b[38;5;129;01mis\u001b[39;00m \u001b[38;5;129;01mnot\u001b[39;00m \u001b[38;5;28;01mNone\u001b[39;00m \u001b[38;5;28;01melse\u001b[39;00m config\u001b[38;5;241m.\u001b[39mhidden_dropout_prob\n\u001b[0;32m   1526\u001b[0m )\n\u001b[0;32m   1527\u001b[0m \u001b[38;5;28mself\u001b[39m\u001b[38;5;241m.\u001b[39mdropout \u001b[38;5;241m=\u001b[39m nn\u001b[38;5;241m.\u001b[39mDropout(classifier_dropout)\n",
      "File \u001b[1;32m~\\AppData\\Local\\anaconda3\\Lib\\site-packages\\transformers\\models\\bert\\modeling_bert.py:891\u001b[0m, in \u001b[0;36mBertModel.__init__\u001b[1;34m(self, config, add_pooling_layer)\u001b[0m\n\u001b[0;32m    888\u001b[0m \u001b[38;5;28msuper\u001b[39m()\u001b[38;5;241m.\u001b[39m\u001b[38;5;21m__init__\u001b[39m(config)\n\u001b[0;32m    889\u001b[0m \u001b[38;5;28mself\u001b[39m\u001b[38;5;241m.\u001b[39mconfig \u001b[38;5;241m=\u001b[39m config\n\u001b[1;32m--> 891\u001b[0m \u001b[38;5;28mself\u001b[39m\u001b[38;5;241m.\u001b[39membeddings \u001b[38;5;241m=\u001b[39m BertEmbeddings(config)\n\u001b[0;32m    892\u001b[0m \u001b[38;5;28mself\u001b[39m\u001b[38;5;241m.\u001b[39mencoder \u001b[38;5;241m=\u001b[39m BertEncoder(config)\n\u001b[0;32m    894\u001b[0m \u001b[38;5;28mself\u001b[39m\u001b[38;5;241m.\u001b[39mpooler \u001b[38;5;241m=\u001b[39m BertPooler(config) \u001b[38;5;28;01mif\u001b[39;00m add_pooling_layer \u001b[38;5;28;01melse\u001b[39;00m \u001b[38;5;28;01mNone\u001b[39;00m\n",
      "File \u001b[1;32m~\\AppData\\Local\\anaconda3\\Lib\\site-packages\\transformers\\models\\bert\\modeling_bert.py:185\u001b[0m, in \u001b[0;36mBertEmbeddings.__init__\u001b[1;34m(self, config)\u001b[0m\n\u001b[0;32m    183\u001b[0m \u001b[38;5;28;01mdef\u001b[39;00m \u001b[38;5;21m__init__\u001b[39m(\u001b[38;5;28mself\u001b[39m, config):\n\u001b[0;32m    184\u001b[0m     \u001b[38;5;28msuper\u001b[39m()\u001b[38;5;241m.\u001b[39m\u001b[38;5;21m__init__\u001b[39m()\n\u001b[1;32m--> 185\u001b[0m     \u001b[38;5;28mself\u001b[39m\u001b[38;5;241m.\u001b[39mword_embeddings \u001b[38;5;241m=\u001b[39m nn\u001b[38;5;241m.\u001b[39mEmbedding(config\u001b[38;5;241m.\u001b[39mvocab_size, config\u001b[38;5;241m.\u001b[39mhidden_size, padding_idx\u001b[38;5;241m=\u001b[39mconfig\u001b[38;5;241m.\u001b[39mpad_token_id)\n\u001b[0;32m    186\u001b[0m     \u001b[38;5;28mself\u001b[39m\u001b[38;5;241m.\u001b[39mposition_embeddings \u001b[38;5;241m=\u001b[39m nn\u001b[38;5;241m.\u001b[39mEmbedding(config\u001b[38;5;241m.\u001b[39mmax_position_embeddings, config\u001b[38;5;241m.\u001b[39mhidden_size)\n\u001b[0;32m    187\u001b[0m     \u001b[38;5;28mself\u001b[39m\u001b[38;5;241m.\u001b[39mtoken_type_embeddings \u001b[38;5;241m=\u001b[39m nn\u001b[38;5;241m.\u001b[39mEmbedding(config\u001b[38;5;241m.\u001b[39mtype_vocab_size, config\u001b[38;5;241m.\u001b[39mhidden_size)\n",
      "File \u001b[1;32m~\\AppData\\Local\\anaconda3\\Lib\\site-packages\\torch\\nn\\modules\\sparse.py:144\u001b[0m, in \u001b[0;36mEmbedding.__init__\u001b[1;34m(self, num_embeddings, embedding_dim, padding_idx, max_norm, norm_type, scale_grad_by_freq, sparse, _weight, _freeze, device, dtype)\u001b[0m\n\u001b[0;32m    141\u001b[0m \u001b[38;5;28;01mif\u001b[39;00m _weight \u001b[38;5;129;01mis\u001b[39;00m \u001b[38;5;28;01mNone\u001b[39;00m:\n\u001b[0;32m    142\u001b[0m     \u001b[38;5;28mself\u001b[39m\u001b[38;5;241m.\u001b[39mweight \u001b[38;5;241m=\u001b[39m Parameter(torch\u001b[38;5;241m.\u001b[39mempty((num_embeddings, embedding_dim), \u001b[38;5;241m*\u001b[39m\u001b[38;5;241m*\u001b[39mfactory_kwargs),\n\u001b[0;32m    143\u001b[0m                             requires_grad\u001b[38;5;241m=\u001b[39m\u001b[38;5;129;01mnot\u001b[39;00m _freeze)\n\u001b[1;32m--> 144\u001b[0m     \u001b[38;5;28mself\u001b[39m\u001b[38;5;241m.\u001b[39mreset_parameters()\n\u001b[0;32m    145\u001b[0m \u001b[38;5;28;01melse\u001b[39;00m:\n\u001b[0;32m    146\u001b[0m     \u001b[38;5;28;01massert\u001b[39;00m \u001b[38;5;28mlist\u001b[39m(_weight\u001b[38;5;241m.\u001b[39mshape) \u001b[38;5;241m==\u001b[39m [num_embeddings, embedding_dim], \\\n\u001b[0;32m    147\u001b[0m         \u001b[38;5;124m'\u001b[39m\u001b[38;5;124mShape of weight does not match num_embeddings and embedding_dim\u001b[39m\u001b[38;5;124m'\u001b[39m\n",
      "File \u001b[1;32m~\\AppData\\Local\\anaconda3\\Lib\\site-packages\\torch\\nn\\modules\\sparse.py:153\u001b[0m, in \u001b[0;36mEmbedding.reset_parameters\u001b[1;34m(self)\u001b[0m\n\u001b[0;32m    152\u001b[0m \u001b[38;5;28;01mdef\u001b[39;00m \u001b[38;5;21mreset_parameters\u001b[39m(\u001b[38;5;28mself\u001b[39m) \u001b[38;5;241m-\u001b[39m\u001b[38;5;241m>\u001b[39m \u001b[38;5;28;01mNone\u001b[39;00m:\n\u001b[1;32m--> 153\u001b[0m     init\u001b[38;5;241m.\u001b[39mnormal_(\u001b[38;5;28mself\u001b[39m\u001b[38;5;241m.\u001b[39mweight)\n\u001b[0;32m    154\u001b[0m     \u001b[38;5;28mself\u001b[39m\u001b[38;5;241m.\u001b[39m_fill_padding_idx_with_zero()\n",
      "File \u001b[1;32m~\\AppData\\Local\\anaconda3\\Lib\\site-packages\\torch\\nn\\init.py:155\u001b[0m, in \u001b[0;36mnormal_\u001b[1;34m(tensor, mean, std)\u001b[0m\n\u001b[0;32m    153\u001b[0m \u001b[38;5;28;01mif\u001b[39;00m torch\u001b[38;5;241m.\u001b[39moverrides\u001b[38;5;241m.\u001b[39mhas_torch_function_variadic(tensor):\n\u001b[0;32m    154\u001b[0m     \u001b[38;5;28;01mreturn\u001b[39;00m torch\u001b[38;5;241m.\u001b[39moverrides\u001b[38;5;241m.\u001b[39mhandle_torch_function(normal_, (tensor,), tensor\u001b[38;5;241m=\u001b[39mtensor, mean\u001b[38;5;241m=\u001b[39mmean, std\u001b[38;5;241m=\u001b[39mstd)\n\u001b[1;32m--> 155\u001b[0m \u001b[38;5;28;01mreturn\u001b[39;00m _no_grad_normal_(tensor, mean, std)\n",
      "File \u001b[1;32m~\\AppData\\Local\\anaconda3\\Lib\\site-packages\\torch\\nn\\init.py:19\u001b[0m, in \u001b[0;36m_no_grad_normal_\u001b[1;34m(tensor, mean, std)\u001b[0m\n\u001b[0;32m     17\u001b[0m \u001b[38;5;28;01mdef\u001b[39;00m \u001b[38;5;21m_no_grad_normal_\u001b[39m(tensor, mean, std):\n\u001b[0;32m     18\u001b[0m     \u001b[38;5;28;01mwith\u001b[39;00m torch\u001b[38;5;241m.\u001b[39mno_grad():\n\u001b[1;32m---> 19\u001b[0m         \u001b[38;5;28;01mreturn\u001b[39;00m tensor\u001b[38;5;241m.\u001b[39mnormal_(mean, std)\n",
      "\u001b[1;31mKeyboardInterrupt\u001b[0m: "
     ]
    }
   ],
   "source": [
    "book_review_uers_sort_unique_books.loc[:,\"Personality_Values\"] =book_review_uers_sort_unique_books.AllText.apply(lambda x:personality_detection(x))"
   ]
  },
  {
   "cell_type": "code",
   "execution_count": null,
   "id": "7c6770e9",
   "metadata": {},
   "outputs": [],
   "source": [
    "#merged_data_valid_user_id.to_csv(\"../data/interim/merged_data_ids.csv\", index=False)"
   ]
  },
  {
   "cell_type": "markdown",
   "id": "1269dece",
   "metadata": {},
   "source": [
    "### Now we split the data in train and test"
   ]
  },
  {
   "cell_type": "code",
   "execution_count": null,
   "id": "0f514340",
   "metadata": {},
   "outputs": [],
   "source": [
    "from sklearn.model_selection import train_test_split\n",
    "X = merged_data_valid_user_id[['UserId', 'BookId']]\n",
    "y = merged_data_valid_user_id['Ratings']\n",
    "X_train, X_test, y_train, y_test = train_test_split(X, y, test_size = .25, random_state = 0)"
   ]
  },
  {
   "cell_type": "code",
   "execution_count": null,
   "id": "fc8328fa",
   "metadata": {},
   "outputs": [],
   "source": [
    "print(X_train.shape, X_test.shape, y_train.shape, y_test.shape)"
   ]
  },
  {
   "cell_type": "markdown",
   "id": "288110fb",
   "metadata": {},
   "source": [
    "### We have our train and test data sets ready. In the next stage, we will build collaborative filtering model using PyTorch"
   ]
  }
 ],
 "metadata": {
  "kernelspec": {
   "display_name": "Python 3 (ipykernel)",
   "language": "python",
   "name": "python3"
  },
  "language_info": {
   "codemirror_mode": {
    "name": "ipython",
    "version": 3
   },
   "file_extension": ".py",
   "mimetype": "text/x-python",
   "name": "python",
   "nbconvert_exporter": "python",
   "pygments_lexer": "ipython3",
   "version": "3.11.5"
  }
 },
 "nbformat": 4,
 "nbformat_minor": 5
}
